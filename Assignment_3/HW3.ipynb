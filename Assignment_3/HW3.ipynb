{
  "cells": [
    {
      "cell_type": "markdown",
      "source": [
        "# Introducrtion to Machine Learning: Assignment #3\n",
        "## Submission date: 09\\07\\2024, 23:55.\n",
        "### Topics:\n",
        "- Multiclass Classification\n",
        "- PAC, VCdim\n",
        "- Bias vs Variance\n",
        "- Cross validation\n",
        "- Linear Regression\n",
        "- Decision Trees"
      ],
      "metadata": {
        "id": "ocR88ScnhZjt"
      }
    },
    {
      "cell_type": "markdown",
      "source": [
        "Submitted by:\n",
        "\n",
        " **Bashar Beshoti + 207370248\n",
        "\n",
        " **Ayal Kaabia + 322784760"
      ],
      "metadata": {
        "id": "k3_EWgIhhddu"
      }
    },
    {
      "cell_type": "markdown",
      "source": [
        "**Assignment Instruction:**\n",
        "\n",
        "· Submissions in pairs only.\n",
        "\n",
        "· Try to keep the code as clean, concise, and short as possible\n",
        "\n",
        "· If you wish to work in your IDE, you can, but you **must**,  insert the script back to the matching cells of the notebook and run the code. <br/>Only the notebook will be submitted in moodle (in `.ipynb` format).\n",
        "\n",
        "· <font color='red'>Please write your answers to question in red</font>.\n",
        "\n",
        "**Important:** All plots, results and outputs should be included in the notebook as the cells' outputs (run all cells and do not clear the output). <br/>\n",
        "\n",
        "**Important:** Your submission must be entirely your own. Any attempts of plagiarism (including ChatGPT) will lead to grade 0 and disciplinary actions.\n"
      ],
      "metadata": {
        "id": "Z8Atq8JqiCPl"
      }
    },
    {
      "cell_type": "markdown",
      "source": [
        "## Question 1 - Multiclass SVM\n",
        "\n",
        "You will implement and compare different multiclass methods in both separable and non separable cases."
      ],
      "metadata": {
        "id": "QjmNAc9voNi9"
      }
    },
    {
      "cell_type": "code",
      "source": [
        "# Import libraries\n",
        "\n",
        "import numpy as np\n",
        "import matplotlib.pyplot as plt\n",
        "from sklearn.svm import SVC"
      ],
      "metadata": {
        "id": "4H-iYP1J6D3v"
      },
      "execution_count": null,
      "outputs": []
    },
    {
      "cell_type": "markdown",
      "source": [
        "\n",
        "As seen in tutorials, One vs One is usually a better choice than other methods, even SKlearn uses it! <br/>\n",
        "You are given a partial implementation of OvO classifier and need to complete it. Specifically:<br/>\n",
        "- ```__init__(self, n_classes=2, C=1.0)``` - Init $\\binom{n}{2}$ estimators, one for each pair of classes.\n",
        "\n",
        "- ```fit(self, X, y)``` - given data and labels learns the classifiers using linear SVM. <br/>\n",
        "\n",
        "- ```predict(self, X)``` - as learned in lectures, prediction for sample will be the majority class got most votes from all the classifiers.  Therefore, $\\forall i<j$ predict who is the winner for X in the estimator $(i,j)$ and update the bins accordinly."
      ],
      "metadata": {
        "id": "LjZUMNqT6H0T"
      }
    },
    {
      "cell_type": "code",
      "source": [
        "from collections import defaultdict\n",
        "\n",
        "class OneVsOneClassifier:\n",
        "    def __init__(self, n_classes=2, C=1.0):\n",
        "        self.n_classes = n_classes\n",
        "        self.C = C\n",
        "        self.estimators = defaultdict(None)\n",
        "        # Initialize the estimators dictionary with pairs of classes\n",
        "        for i in range(n_classes):\n",
        "            for j in range(i + 1, n_classes):\n",
        "                self.estimators[(i, j)] = SVC(C=C, kernel='linear')\n",
        "\n",
        "    def fit(self, X, y):\n",
        "        for i in range(self.n_classes):\n",
        "            for j in range(i + 1,self.n_classes):\n",
        "                # Add code here\n",
        "                # Extract samples belonging to class i or j\n",
        "                mask = (y == i) | (y == j)\n",
        "                temp_X = X[mask]\n",
        "                temp_y = y[mask]\n",
        "\n",
        "                # Mappping class\n",
        "                temp_y = np.where(temp_y == i, 0, 1)\n",
        "                self.estimators[(i,j)].fit(temp_X, temp_y)\n",
        "\n",
        "    def predict(self, X):\n",
        "        scores = np.zeros((len(X),self.n_classes))\n",
        "        for i in range(self.n_classes):\n",
        "            for j in range(i + 1, self.n_classes):\n",
        "                # Add code here\n",
        "                # Get binary predictions from the classifier\n",
        "                pred = self.estimators[(i, j)].predict(X)\n",
        "\n",
        "                 # Mappping Predictions\n",
        "                for k, p in enumerate(pred):\n",
        "                    if p == 0:\n",
        "                        scores[k, i] += 1\n",
        "                    else:\n",
        "                        scores[k, j] += 1\n",
        "\n",
        "        return np.argmax(scores, axis=1)\n",
        "\n",
        "    def score(self, X, y):\n",
        "        y_pred = self.predict(X)\n",
        "        return np.mean(y_pred == y)"
      ],
      "metadata": {
        "id": "zLFSqKd66F85"
      },
      "execution_count": null,
      "outputs": []
    },
    {
      "cell_type": "markdown",
      "source": [
        "The data"
      ],
      "metadata": {
        "id": "7lAZV_hiGt2n"
      }
    },
    {
      "cell_type": "code",
      "source": [
        "from sklearn.datasets import make_blobs\n",
        "\n",
        "np.random.seed(2)\n",
        "X, y = make_blobs(n_samples=300,cluster_std=.25, centers=np.array([(-3,1),(0,2),(3,1)]))\n",
        "plt.scatter(X[:, 0], X[:, 1], c=y, s=50)"
      ],
      "metadata": {
        "id": "IfhFT8oYGvvX",
        "colab": {
          "base_uri": "https://localhost:8080/"
        },
        "outputId": "b481db6d-3608-486c-b63b-685eda8f6ebb"
      },
      "execution_count": null,
      "outputs": [
        {
          "output_type": "execute_result",
          "data": {
            "text/plain": [
              "<matplotlib.collections.PathCollection at 0x7a8d7c4ad2a0>"
            ]
          },
          "metadata": {},
          "execution_count": 9
        },
        {
          "output_type": "display_data",
          "data": {
            "text/plain": [
              "<Figure size 640x480 with 1 Axes>"
            ],
            "image/png": "[encoded data removed]"
          },
          "metadata": {}
        }
      ]
    },
    {
      "cell_type": "markdown",
      "source": [
        "This will test the classifier we just built by plotting confusion matrix and draw the decision boundaries. <br/>\n",
        "Does the value of C matter? <br/>\n",
        "\n",
        "<font color='red'>The value of C does not matter much since The confusion matrix showing perfect classification with no errors (all entries on the diagonal and zero elsewhere) suggests that the classifier is perfectly fitting the training data, regardless of the value of C. and this is probably because The dataset is too simple and well-separated(looking at the plotted data its obvious to see that), making it easy for the classifier to separate the classes perfectly.\n",
        "</font>"
      ],
      "metadata": {
        "id": "lPGtn-5UHkeF"
      }
    },
    {
      "cell_type": "code",
      "source": [
        "from sklearn import metrics\n",
        "clf_onevsall = OneVsOneClassifier(n_classes=3, C=2)\n",
        "clf_onevsall.fit(X,y)\n",
        "\n",
        "# create a mesh to plot in\n",
        "h = .02  # step size in the mesh\n",
        "x_min, x_max = min(X[:,0])-3,max(X[:,0])+3\n",
        "y_min, y_max = min(X[:,1])-3,max(X[:,1])+3\n",
        "xx, yy = np.meshgrid(np.arange(x_min, x_max, h),\n",
        "                     np.arange(y_min, y_max, h))\n",
        "mesh_input = np.c_[xx.ravel(), yy.ravel()]\n",
        "\n",
        "Z = clf_onevsall.predict(mesh_input)\n",
        "Z = Z.reshape(xx.shape)\n",
        "plt.contourf(xx, yy, Z, cmap=plt.cm.coolwarm, alpha=0.8)\n",
        "# Plot also the training points\n",
        "plt.scatter(X[:, 0], X[:, 1], c=y, cmap=plt.cm.coolwarm)\n",
        "\n",
        "metrics.confusion_matrix(y, clf_onevsall.predict(X))"
      ],
      "metadata": {
        "id": "FwEpT6JgGzAK",
        "colab": {
          "base_uri": "https://localhost:8080/"
        },
        "outputId": "69a9f5aa-e011-4b5b-a648-8b0ce8647653"
      },
      "execution_count": null,
      "outputs": [
        {
          "output_type": "execute_result",
          "data": {
            "text/plain": [
              "array([[100,   0,   0],\n",
              "       [  0, 100,   0],\n",
              "       [  0,   0, 100]])"
            ]
          },
          "metadata": {},
          "execution_count": 10
        },
        {
          "output_type": "display_data",
          "data": {
            "text/plain": [
              "<Figure size 640x480 with 1 Axes>"
            ],
            "image/png": "[encoded data removed]"
          },
          "metadata": {}
        }
      ]
    },
    {
      "cell_type": "markdown",
      "source": [
        "Generate another data\n",
        "\n"
      ],
      "metadata": {
        "id": "mWtCEnCfII-Z"
      }
    },
    {
      "cell_type": "code",
      "source": [
        "np.random.seed(2)\n",
        "X, y = make_blobs(n_samples=300,cluster_std=1.25, centers=np.array([(-3,1),(0,2),(3,1)]))\n",
        "plt.scatter(X[:, 0], X[:, 1], c=y, s=50)"
      ],
      "metadata": {
        "id": "ZEFVWH18IL_y",
        "colab": {
          "base_uri": "https://localhost:8080/"
        },
        "outputId": "55ffa2a4-5fb7-46fd-a908-73e96d679e7a"
      },
      "execution_count": null,
      "outputs": [
        {
          "output_type": "execute_result",
          "data": {
            "text/plain": [
              "<matplotlib.collections.PathCollection at 0x7a8d34f62da0>"
            ]
          },
          "metadata": {},
          "execution_count": 11
        },
        {
          "output_type": "display_data",
          "data": {
            "text/plain": [
              "<Figure size 640x480 with 1 Axes>"
            ],
            "image/png": "[encoded data removed]"
          },
          "metadata": {}
        }
      ]
    },
    {
      "cell_type": "markdown",
      "source": [
        "Look at the train vs test for different values of C. <br/> Justify the plot, by checking what happens as $C\\rightarrow 0$, $C\\rightarrow \\infty$ and mid value C.<br/>\n",
        "<font color='red'>Write here your answer and explain</font>\n",
        "\n",
        "<font color='red'>\n",
        "1)Low C Values ( close to 0.001):\n",
        "<font color='red'>\n",
        "a)Training Accuracy: At very low values of C, the training accuracy is relatively high but not at its peak. This suggests that the model has a simpler decision boundary that doesn't overfit the training data.\n",
        "b)Test Accuracy: The test accuracy is slightly lower than the training accuracy, indicating a small amount of underfitting. The model is not perfectly capturing the complexities of the data but is generalizing reasonably well.\n",
        "<font color='red'>\n",
        "\n",
        "2)Medium C Values (e.g., 0.5):\n",
        "a)Training Accuracy: As C increases, the training accuracy decreases slightly. This suggests that the decision boundary is becoming more complex and is trying to fit the training data better.\n",
        "b)Test Accuracy: The test accuracy also decreases, indicating that the model might be starting to overfit the training data, leading to poorer generalization on the test set.\n",
        "</font>\n",
        "\n",
        "<font color='red'>\n",
        "3)High C Values (e.g., 1.0):\n",
        "Training Accuracy: The training accuracy remains relatively stable and slightly lower than the initial value, indicating that the model is fitting the training data quite well.\n",
        "Test Accuracy: The test accuracy does not improve and stays lower, which might suggest that the model has reached a point where increasing C further does not lead to better generalization but instead maintains a level of overfitting.\n",
        "</font>\n"
      ],
      "metadata": {
        "id": "FQpZ_c0oIhbo"
      }
    },
    {
      "cell_type": "code",
      "source": [
        "from sklearn.model_selection import train_test_split\n",
        "from tqdm import tqdm\n",
        "\n",
        "X_train, X_test, y_train, y_test = train_test_split(X, y, test_size=0.2, random_state=42)\n",
        "\n",
        "# Define a list of C values\n",
        "C_values = [5e-3, 1e-2, 0.5, 1]\n",
        "\n",
        "train_accuracies = []\n",
        "test_accuracies = []\n",
        "\n",
        "for C in tqdm(C_values):\n",
        "    # Create a new OneVsOneClassifier instance\n",
        "    clf_onevsall = OneVsOneClassifier(n_classes=3, C=C)\n",
        "\n",
        "    # Fit the classifier on the training data\n",
        "    clf_onevsall.fit(X_train, y_train)\n",
        "\n",
        "    # Calculate the train and test accuracies\n",
        "    train_accuracy = clf_onevsall.score(X_train, y_train)\n",
        "    test_accuracy = clf_onevsall.score(X_test, y_test)\n",
        "\n",
        "    # Append the accuracies to the lists\n",
        "    train_accuracies.append(train_accuracy)\n",
        "    test_accuracies.append(test_accuracy)\n",
        "\n",
        "# Plot the train and test accuracies as a function of C\n",
        "\n",
        "plt.figure(figsize=(12,5))\n",
        "plt.plot(C_values, train_accuracies, label=\"Train Accuracy\")\n",
        "plt.plot(C_values, test_accuracies, label=\"Test Accuracy\")\n",
        "plt.xlabel(\"C\")\n",
        "plt.xticks(C_values)\n",
        "plt.ylabel(\"Accuracy\")\n",
        "plt.legend()\n",
        "plt.show()\n"
      ],
      "metadata": {
        "id": "YsU4EVXWIgtS",
        "colab": {
          "base_uri": "https://localhost:8080/"
        },
        "outputId": "4201e76d-0d2b-4b56-abd7-12073e349dd0"
      },
      "execution_count": null,
      "outputs": [
        {
          "output_type": "stream",
          "name": "stderr",
          "text": [
            "100%|██████████| 4/4 [00:00<00:00, 82.10it/s]\n"
          ]
        },
        {
          "output_type": "display_data",
          "data": {
            "text/plain": [
              "<Figure size 1200x500 with 1 Axes>"
            ],
            "image/png": "[encoded data removed]"
          },
          "metadata": {}
        }
      ]
    },
    {
      "cell_type": "markdown",
      "source": [
        "Now, you will experience little bit from softmax. It uses neural networks, but you dont have to understand it. The importand part is the preidction, which is obtained by:\n",
        "```\n",
        "def forward(self, x):\n",
        "        out = self.linear(x)\n",
        "        return torch.softmax(out, dim=1)\n",
        "```\n",
        "Note that this is exactly that you saw - linear score $s_j$ and then applying softmax.\n",
        "\n",
        "The best results are obtained using 300 epochs (iterations) and in each iteration the batch size is the entire data. <br/>\n",
        "1. What happens as you use 100,600 epcohs compared to 300? why is that?\n",
        "2. Use 300 epochs with batch size 50 vs the entire data. How does the batch size affect the convergence of the problem?\n",
        "\n",
        "<font color='red'>Write here your answers and explain them</font>\n",
        "\n",
        "<font color='red'>\n",
        "1) When you increase the number of epochs from 300 to 100,600, the model gets more opportunities to adjust its weights and biases to better fit the training data. Here's what i noticed:\n",
        "\n",
        "Improvement in Accuracy: As i noticed, the accuracy improved from 0.8 to 0.83. This is because with more epochs, the model has more iterations to learn from the data, reducing the training loss and potentially improving performance on the validation set.\n",
        "Change in Confusion Matrix: The confusion matrix showed changes, indicating that the model's predictions for some classes have improved while others might not have improved as much.\n",
        "2) when we used 300 epochs with batch size of 50 instead of what was before (len(X_train) // 3 = 80) i noticed that the accuracy dropped from 0.8 to 0.7833 using softmax and if we use a batch size of the entire data then we get accuracy of 0.8167 which is much better than 0.7833(lower training accuracy might mean that it has better generalization).\n",
        "Convergence Speed: Smaller batch sizes like 50 allow for more frequent updates to the model weights, which can lead to faster convergence. However, these updates can be noisy due to the limited amount of data seen in each batch.\n",
        "Meanwhile Using the entire dataset as a batch means that each epoch performs one update. This can lead to slower convergence as updates are less frequent.\n",
        " which led me to this conclusion:\n",
        "Batch size affects the convergence and generalization of the model. A batch size of 50 may lead to faster convergence and better generalization but with less stability, whereas using the entire dataset provides stable updates but slower convergence and potentially worse generalization.\n",
        "</font>"
      ],
      "metadata": {
        "id": "xPR_Jf5FKsXT"
      }
    },
    {
      "cell_type": "code",
      "source": [
        "num_epochs = 300\n",
        "batch_size = len(X_train) // 3\n",
        "print(f\"Training size is {X_train} samples and batch size is {batch_size}\")"
      ],
      "metadata": {
        "id": "YD3jntvGK4jH",
        "colab": {
          "base_uri": "https://localhost:8080/"
        },
        "outputId": "72da55d5-043e-4fba-88df-cd6dbe4916f3",
        "collapsed": true
      },
      "execution_count": null,
      "outputs": [
        {
          "output_type": "stream",
          "name": "stdout",
          "text": [
            "Training size is [[ 4.40560358e+00 -8.72299757e-01]\n",
            " [ 1.63979804e+00  5.26805585e-02]\n",
            " [-4.77652153e+00  8.08131005e-01]\n",
            " [ 3.47900558e+00  4.78757314e-01]\n",
            " [ 3.97435007e+00  2.28324744e+00]\n",
            " [-7.14227010e-01  2.36554008e+00]\n",
            " [ 1.81396237e+00  6.68840150e-01]\n",
            " [-4.09763487e+00  8.04457287e-01]\n",
            " [ 9.82682587e-01  2.24271087e+00]\n",
            " [ 3.24532862e+00 -9.48704625e-02]\n",
            " [-3.39188525e+00  1.96376467e+00]\n",
            " [ 9.34498677e-01  1.70887875e+00]\n",
            " [-5.24179448e+00 -5.21842071e-02]\n",
            " [-4.85308185e+00  2.05788986e+00]\n",
            " [ 1.28523112e+00  1.09765034e+00]\n",
            " [ 1.09968175e+00  2.21357665e+00]\n",
            " [ 3.37904304e+00 -3.73435559e-02]\n",
            " [ 1.97637600e+00  5.84200919e-01]\n",
            " [-3.40631204e+00  2.99706867e-01]\n",
            " [ 1.93536337e+00  1.60521495e+00]\n",
            " [ 2.80698755e+00 -1.18661100e+00]\n",
            " [ 1.56056287e+00  4.42841809e-01]\n",
            " [-1.54809814e+00  1.48259756e+00]\n",
            " [ 1.64181481e+00  7.11353128e-01]\n",
            " [ 1.16485920e+00  3.83541517e+00]\n",
            " [-3.57750669e+00  1.43861062e+00]\n",
            " [ 8.26580210e-02  2.66944794e+00]\n",
            " [ 3.64865616e+00  3.83756361e-01]\n",
            " [-6.04345947e+00  1.14090813e+00]\n",
            " [-3.02391312e+00  2.46875152e+00]\n",
            " [ 2.05239330e+00  2.38962213e+00]\n",
            " [-2.94807576e+00 -3.97406806e-01]\n",
            " [ 1.38830660e+00  1.53332648e+00]\n",
            " [-1.70871367e+00  5.88746957e-01]\n",
            " [ 7.55780613e-02  3.26763900e-01]\n",
            " [-1.85183989e-01  3.87679614e+00]\n",
            " [ 3.53377182e+00  1.50873469e+00]\n",
            " [-3.94616513e-01  3.12497372e-01]\n",
            " [ 2.90749628e+00 -2.33120455e-01]\n",
            " [-3.52414560e+00  8.34588877e-01]\n",
            " [-1.71204834e+00  5.33792156e+00]\n",
            " [ 3.70338111e+00  2.72411553e-01]\n",
            " [ 6.04211851e-01 -1.78417662e+00]\n",
            " [ 4.37251255e+00 -2.72347563e-01]\n",
            " [ 2.32014577e+00  1.23037717e+00]\n",
            " [ 2.24934949e+00  3.01859155e+00]\n",
            " [-7.53925990e-01  2.05244704e+00]\n",
            " [-2.75805676e-03  1.82588515e+00]\n",
            " [-2.36305064e-01  1.43833925e+00]\n",
            " [-3.38010805e+00  4.23161859e+00]\n",
            " [ 1.41593259e+00  2.46288105e+00]\n",
            " [ 1.27339631e+00  4.87797286e+00]\n",
            " [ 4.78120879e+00  4.41427629e-01]\n",
            " [-4.77351319e+00  6.85282352e-01]\n",
            " [-1.29095572e+00  2.52235704e+00]\n",
            " [ 8.91905560e-01  5.16216859e+00]\n",
            " [ 2.98332531e+00  3.95959380e-02]\n",
            " [ 7.76749198e-01  3.74010638e-01]\n",
            " [-3.84709447e+00 -7.99298783e-01]\n",
            " [ 1.30684748e+00  3.71127003e+00]\n",
            " [ 7.89748655e-01  2.52199091e+00]\n",
            " [-2.96800336e+00  2.07314992e+00]\n",
            " [ 4.87870562e-01  3.21938677e+00]\n",
            " [-3.93483869e+00  1.01128156e+00]\n",
            " [ 3.23315190e+00  8.01963470e-01]\n",
            " [ 7.49775537e-01  2.68673058e+00]\n",
            " [-1.60111897e+00  2.38730785e+00]\n",
            " [-3.90338337e-01  4.68084761e+00]\n",
            " [-2.52920492e+00  2.33496572e+00]\n",
            " [-3.47689560e+00  1.08311126e+00]\n",
            " [ 1.68135541e+00 -4.78446505e-01]\n",
            " [-1.04314401e+00  7.53800391e-01]\n",
            " [ 1.73192117e+00 -3.94079954e-01]\n",
            " [-2.06004394e+00 -2.42201229e-01]\n",
            " [ 1.36216184e+00  1.45429246e+00]\n",
            " [ 3.30857189e+00 -8.35969749e-01]\n",
            " [-2.16338957e-01  1.50581700e+00]\n",
            " [-3.79706877e+00 -4.84515358e-01]\n",
            " [ 1.08699775e+00  6.41136781e-01]\n",
            " [ 2.25659688e+00  6.06485197e-01]\n",
            " [-2.60879536e-01  2.17202249e+00]\n",
            " [ 3.65138679e+00  1.14757025e-01]\n",
            " [ 7.32755122e-01  1.97451589e+00]\n",
            " [ 2.00640944e+00  4.93392166e-01]\n",
            " [-1.96912124e+00  2.56026615e+00]\n",
            " [-3.34522437e+00  3.53895133e-01]\n",
            " [-2.12975253e+00  1.87177034e+00]\n",
            " [-1.61357090e+00 -1.20614716e+00]\n",
            " [-3.14302662e+00  3.77282258e-01]\n",
            " [-5.67024512e+00  3.05033851e+00]\n",
            " [ 1.51381977e-01  9.41464060e-01]\n",
            " [-1.49374987e+00  1.39008682e+00]\n",
            " [-9.84686925e-01  2.53094209e+00]\n",
            " [ 1.08826081e+00  6.15015329e-01]\n",
            " [ 3.85594996e+00 -1.13442381e+00]\n",
            " [ 2.23406055e+00 -7.41802521e-01]\n",
            " [-4.93334326e+00 -1.60331492e+00]\n",
            " [ 6.90829620e-01  9.49446234e-01]\n",
            " [ 1.44065946e+00  9.03067188e-01]\n",
            " [ 4.44441324e+00  6.81836926e-01]\n",
            " [ 3.37401334e+00  1.84908397e+00]\n",
            " [ 4.08833798e-01  1.80800694e-01]\n",
            " [ 2.81301081e+00  6.96949250e-01]\n",
            " [-1.33054229e+00  1.37828667e+00]\n",
            " [-3.50486534e+00 -7.30648333e-01]\n",
            " [-5.17244938e+00  2.30102994e+00]\n",
            " [ 2.34388542e+00  2.62739146e-01]\n",
            " [ 7.94204697e-01  4.62778658e+00]\n",
            " [-2.01312407e+00  2.62492470e+00]\n",
            " [ 2.58665520e+00  1.35901025e+00]\n",
            " [ 1.93916750e+00  1.41442456e+00]\n",
            " [-2.37757481e+00  1.15813022e+00]\n",
            " [-7.05834096e-01  1.55086234e+00]\n",
            " [-2.67928693e+00 -2.35973811e-01]\n",
            " [-2.23731989e+00  1.52937113e+00]\n",
            " [-4.37342368e+00  2.98060882e+00]\n",
            " [ 1.88298849e+00  1.93987794e+00]\n",
            " [ 3.97594295e+00 -3.19799548e-01]\n",
            " [-2.23582403e+00  1.05996324e+00]\n",
            " [ 2.02636622e+00  2.89085409e+00]\n",
            " [-1.96317696e+00  1.78827746e+00]\n",
            " [-2.53694433e+00  2.69954233e+00]\n",
            " [ 2.00206409e+00  1.00707225e+00]\n",
            " [-4.27676841e+00  1.54049463e+00]\n",
            " [-2.74474003e+00  2.75837030e+00]\n",
            " [ 2.01897034e+00  2.53200776e+00]\n",
            " [-4.32599880e+00  1.73958315e+00]\n",
            " [ 8.84491083e-01  2.14256735e+00]\n",
            " [ 5.39075085e+00  9.43420996e-01]\n",
            " [ 1.77155542e+00  3.60835341e+00]\n",
            " [ 3.49369153e+00 -5.04766837e-01]\n",
            " [-5.33511332e+00  3.16398083e+00]\n",
            " [ 9.06691574e-01  1.55065693e+00]\n",
            " [-3.22907072e+00  2.27481841e+00]\n",
            " [-4.56928402e+00  2.17270459e+00]\n",
            " [-1.27939373e+00  1.43978147e+00]\n",
            " [ 3.64854516e+00  1.45556001e+00]\n",
            " [ 9.86324561e-01 -2.70922537e-02]\n",
            " [ 8.90076534e-01 -2.50895051e-01]\n",
            " [ 3.14724569e+00  3.29143364e-01]\n",
            " [ 3.02657606e+00  2.13864689e+00]\n",
            " [ 2.91823790e+00  1.95764488e+00]\n",
            " [-1.99655163e-01  2.68618320e+00]\n",
            " [-5.99981389e-01  7.25438626e-01]\n",
            " [ 3.34929220e+00 -1.27778909e+00]\n",
            " [ 2.13586578e+00  2.02640110e+00]\n",
            " [ 4.01900755e+00 -1.59365296e+00]\n",
            " [-1.08529960e+00 -1.48230722e+00]\n",
            " [ 1.95695326e+00  1.77851941e-01]\n",
            " [-3.54399395e-01  2.67303033e+00]\n",
            " [ 1.04701974e+00  1.83539700e+00]\n",
            " [ 2.39467058e-01  1.17223874e+00]\n",
            " [-3.28530945e+00 -1.58701533e+00]\n",
            " [ 1.37438766e-01 -3.91904023e-01]\n",
            " [ 5.37752153e+00  2.74521202e-01]\n",
            " [-7.72969356e-01  2.47349308e+00]\n",
            " [-2.54368310e+00  1.96760254e+00]\n",
            " [ 4.19885494e-01  4.38046989e+00]\n",
            " [ 3.32038549e+00  1.95953135e+00]\n",
            " [-4.03641911e+00  1.10963777e+00]\n",
            " [-2.37267849e+00 -5.52671298e-02]\n",
            " [ 3.36404251e+00  7.53336315e-01]\n",
            " [ 3.97877511e+00  4.91171191e-01]\n",
            " [ 7.03336348e-01  1.79435618e+00]\n",
            " [ 2.29438321e+00 -1.60975933e+00]\n",
            " [ 1.64633805e+00 -1.95781900e-01]\n",
            " [-1.40737973e+00  2.61062083e+00]\n",
            " [-2.37139823e+00 -5.56610108e-01]\n",
            " [-2.84397044e+00  1.94562768e+00]\n",
            " [-3.29235096e-01  1.15329939e+00]\n",
            " [-3.42352746e+00  7.04769961e-01]\n",
            " [-2.14258426e+00  1.90420055e+00]\n",
            " [-1.32670718e+00  1.86435397e+00]\n",
            " [-2.45812959e+00  2.59797404e+00]\n",
            " [ 2.57753481e+00  1.42901592e+00]\n",
            " [ 2.25083356e-01  1.91633620e+00]\n",
            " [ 2.77077908e+00 -4.49758620e-01]\n",
            " [ 1.08855096e+00  2.74100850e+00]\n",
            " [-3.58543282e+00 -5.68400384e-01]\n",
            " [ 4.34603706e+00  1.54676279e+00]\n",
            " [ 3.18230009e+00  4.99867429e-01]\n",
            " [ 1.89661397e+00  2.10593024e+00]\n",
            " [ 1.89609305e+00  2.93173353e+00]\n",
            " [ 3.72113715e+00  1.89725712e+00]\n",
            " [ 1.88047795e-01 -8.41466560e-01]\n",
            " [-1.06249438e+00  9.34572754e-01]\n",
            " [ 2.41644621e+00  6.61504593e-01]\n",
            " [ 2.28868332e+00  3.17521999e+00]\n",
            " [-3.13182267e+00  4.28249307e+00]\n",
            " [ 4.43387493e+00  1.11944623e+00]\n",
            " [-4.52678646e+00  3.25559580e+00]\n",
            " [ 2.56922041e+00 -1.50259904e+00]\n",
            " [ 2.77187797e+00 -1.28533292e+00]\n",
            " [ 2.17778955e+00 -5.64310508e-01]\n",
            " [ 2.73118734e+00 -3.43785705e-01]\n",
            " [ 2.97792415e+00  1.29505115e+00]\n",
            " [-2.52266721e+00  1.70784430e+00]\n",
            " [-2.08960968e-01  1.27923634e+00]\n",
            " [ 1.72972629e+00  2.18543655e+00]\n",
            " [-1.79902257e+00  1.94796293e+00]\n",
            " [ 6.41564305e-01  1.58144484e+00]\n",
            " [ 2.26701506e+00  3.16814543e+00]\n",
            " [ 1.92183614e+00 -1.17859113e+00]\n",
            " [-7.59258935e-01  4.63733352e-01]\n",
            " [ 2.79504646e+00  1.46452770e+00]\n",
            " [ 1.02485640e+00  1.21110165e+00]\n",
            " [ 5.85317455e+00  3.80276440e-01]\n",
            " [-2.32617710e+00  2.54800375e-01]\n",
            " [-1.75105682e+00  2.38440691e+00]\n",
            " [-1.49474120e-01  2.73895303e+00]\n",
            " [ 1.03723631e+00  2.42008244e+00]\n",
            " [-2.13110049e+00 -1.54183318e+00]\n",
            " [ 4.02570542e+00  3.88553748e-01]\n",
            " [ 2.92295614e+00 -1.91121440e-01]\n",
            " [-1.44587396e+00  3.54254335e+00]\n",
            " [-4.64398905e-01  5.95120746e+00]\n",
            " [ 3.25836237e+00  9.11404555e-01]\n",
            " [-3.81656283e+00  2.05307035e+00]\n",
            " [-4.41641659e+00  1.54136569e+00]\n",
            " [-3.87323744e+00 -1.61114906e-01]\n",
            " [-3.45559886e+00 -9.49743471e-02]\n",
            " [-4.81670544e+00  5.77477778e-01]\n",
            " [-2.00102501e+00  2.57826708e+00]\n",
            " [ 2.56632434e+00  1.51430440e+00]\n",
            " [ 1.76678792e+00  2.92942042e+00]\n",
            " [ 2.19531887e+00 -1.51098066e+00]\n",
            " [-2.34462946e+00  1.91909947e+00]\n",
            " [ 5.90798863e+00  2.07433590e-01]\n",
            " [-3.40447509e+00  1.52978088e+00]\n",
            " [-2.99998780e+00  1.67794072e+00]\n",
            " [ 1.06705542e-01  2.83166785e+00]\n",
            " [-4.41789810e+00  1.15723891e-01]\n",
            " [-3.52094731e+00  9.29666466e-01]\n",
            " [-3.56778482e+00  1.64296340e+00]\n",
            " [ 1.61570159e+00  7.79642323e-01]\n",
            " [-1.02806719e-01  1.61916677e+00]\n",
            " [ 1.35725801e+00  3.12772424e+00]\n",
            " [ 1.87118974e+00  8.61111155e-02]\n",
            " [-8.16926805e-01  3.76104248e+00]\n",
            " [ 3.39409510e+00  3.33276026e+00]] samples and batch size is 80\n"
          ]
        }
      ]
    },
    {
      "cell_type": "code",
      "source": [
        "#@title This will train the model using softmax\n",
        "\n",
        "import torch\n",
        "import torch.nn as nn\n",
        "import torch.optim as optim\n",
        "import torch.nn.functional as F\n",
        "from torch.utils.data import DataLoader, TensorDataset\n",
        "from sklearn.datasets import make_classification\n",
        "from sklearn.model_selection import train_test_split\n",
        "\n",
        "X_train, X_test, y_train, y_test = train_test_split(X, y, test_size=0.2, random_state=10)\n",
        "\n",
        "# Convert data to PyTorch tensors\n",
        "X_train_tensor = torch.FloatTensor(X_train)\n",
        "y_train_tensor = torch.LongTensor(y_train)\n",
        "X_test_tensor = torch.FloatTensor(X_test)\n",
        "y_test_tensor = torch.LongTensor(y_test)\n",
        "\n",
        "# Define the simple neural network\n",
        "class SimpleNN(nn.Module):\n",
        "    def __init__(self, input_size, output_size):\n",
        "        super(SimpleNN, self).__init__()\n",
        "        self.linear1 = nn.Linear(input_size, output_size)\n",
        "        self.linear1.weight.data.fill_(1)\n",
        "        self.linear1.bias.data.fill_(1)\n",
        "\n",
        "    def forward(self, x):\n",
        "        out = self.linear1(x)\n",
        "        return torch.softmax(out, dim=1)\n",
        "\n",
        "# Set hyperparameters\n",
        "input_size = X_train_tensor.shape[1]\n",
        "output_size = len(torch.unique(y_train_tensor))\n",
        "learning_rate = 0.01\n",
        "\n",
        "train_dataset = TensorDataset(X_train_tensor, y_train_tensor)\n",
        "test_dataset = TensorDataset(X_test_tensor, y_test_tensor)\n",
        "\n",
        "# Create data loaders\n",
        "train_loader = DataLoader(train_dataset, batch_size=batch_size, shuffle=True)\n",
        "test_loader = DataLoader(test_dataset, batch_size=batch_size)\n",
        "\n",
        "# Instantiate the model and define the optimizer\n",
        "model = SimpleNN(input_size, output_size)\n",
        "optimizer = optim.SGD(model.parameters(), lr=learning_rate)\n",
        "\n",
        "# Define the loss function\n",
        "criterion = nn.CrossEntropyLoss()\n",
        "\n",
        "# Training loop\n",
        "for epoch in range(num_epochs):\n",
        "    model.train()  # Set the model to training mode\n",
        "\n",
        "    for inputs, targets in train_loader:\n",
        "        optimizer.zero_grad()  # Clear gradients\n",
        "\n",
        "        # Forward pass\n",
        "        outputs = model(inputs)\n",
        "        loss = criterion(outputs, targets)\n",
        "\n",
        "        # Backward pass and optimization\n",
        "        loss.backward()\n",
        "        optimizer.step()\n",
        "\n",
        "    #if (epoch + 1) % 10 == 0:\n",
        "    #    print(f'Epoch [{epoch + 1}/{num_epochs}], Loss: {loss.item():.4f}')\n",
        "\n",
        "# Evaluate the model on test data\n",
        "model.eval()  # Set the model to evaluation mode\n",
        "with torch.no_grad():\n",
        "    correct = 0\n",
        "    total = 0\n",
        "    for inputs, targets in test_loader:\n",
        "        outputs = model(inputs)\n",
        "        _, predicted = torch.max(outputs, 1)\n",
        "        total += targets.size(0)\n",
        "        correct += (predicted == targets).sum().item()\n",
        "\n",
        "    accuracy = correct / total\n",
        "    print(f'Accuracy on test set: {accuracy:.4f}')"
      ],
      "metadata": {
        "id": "L62n4wkhK5YZ",
        "colab": {
          "base_uri": "https://localhost:8080/"
        },
        "outputId": "e4c599ae-d5cc-49a3-8bf8-79693ea4a3f9"
      },
      "execution_count": null,
      "outputs": [
        {
          "output_type": "stream",
          "name": "stdout",
          "text": [
            "Accuracy on test set: 0.8000\n"
          ]
        }
      ]
    },
    {
      "cell_type": "code",
      "source": [
        "#@title This will plot the boundaries of the model\n",
        "\n",
        "def predict(data):\n",
        "    outputs = model(torch.tensor(data, dtype=torch.float32))\n",
        "    _, predicted = torch.max(outputs, 1)\n",
        "    return predicted\n",
        "\n",
        "# create a mesh to plot in\n",
        "h = .02  # step size in the mesh\n",
        "x_min, x_max = min(X[:,0])-3,max(X[:,0])+3\n",
        "y_min, y_max = min(X[:,1])-3,max(X[:,1])+3\n",
        "xx, yy = np.meshgrid(np.arange(x_min, x_max, h),\n",
        "                     np.arange(y_min, y_max, h))\n",
        "mesh_input = np.c_[xx.ravel(), yy.ravel()]\n",
        "\n",
        "Z = predict(mesh_input)\n",
        "Z = Z.reshape(xx.shape)\n",
        "plt.contourf(xx, yy, Z, cmap=plt.cm.coolwarm, alpha=0.8)\n",
        "# Plot also the training points\n",
        "plt.scatter(X[:, 0], X[:, 1], c=y, cmap=plt.cm.coolwarm)\n",
        "\n",
        "metrics.confusion_matrix(y, predict(X))"
      ],
      "metadata": {
        "id": "pJ43MKK4K77v",
        "colab": {
          "base_uri": "https://localhost:8080/"
        },
        "outputId": "d1f9d18f-48df-48ba-97aa-7d9d2e7f100f"
      },
      "execution_count": null,
      "outputs": [
        {
          "output_type": "execute_result",
          "data": {
            "text/plain": [
              "array([[94,  4,  2],\n",
              "       [19, 69, 12],\n",
              "       [ 0,  9, 91]])"
            ]
          },
          "metadata": {},
          "execution_count": 15
        },
        {
          "output_type": "display_data",
          "data": {
            "text/plain": [
              "<Figure size 640x480 with 1 Axes>"
            ],
            "image/png": "[encoded data removed]"
          },
          "metadata": {}
        }
      ]
    },
    {
      "cell_type": "markdown",
      "source": [
        "## Question 2 - Linear Regression\n",
        "You are requested by the Charles Darvin himself to predict the age of abalone from physical measurements.\n",
        "The dataset consists of 7 continious features that he has collected for you."
      ],
      "metadata": {
        "id": "rs2flQjZL-D7"
      }
    },
    {
      "cell_type": "code",
      "source": [
        "# import libraries\n",
        "\n",
        "import numpy as np\n",
        "import pandas as pd\n",
        "import matplotlib.pyplot as plt\n",
        "from tqdm import tqdm"
      ],
      "metadata": {
        "id": "Oi-_7SJiMAfr"
      },
      "execution_count": null,
      "outputs": []
    },
    {
      "cell_type": "markdown",
      "source": [
        "We define the following:\n",
        "-\tX, 2d matrix from size n x d which represents the training samples.\n",
        "-\ty, array from size n which represents the target value for the corresponding sample.\n",
        "\n",
        "Implement the function Linreg_sol(X,y) which outputs the closed form solution for linear regression on X,y. <br/>\n",
        "Don't use pinv"
      ],
      "metadata": {
        "id": "4zjczKr4MNHv"
      }
    },
    {
      "cell_type": "code",
      "source": [
        "def Linreg_sol(X, y):\n",
        "    X = np.hstack([np.ones((X.shape[0], 1)), X])\n",
        "    X_multi = np.dot(X.T, X)\n",
        "    X_inverse_Y = np.dot(X.T, y)\n",
        "    coeff = np.linalg.solve(X_multi, X_inverse_Y)\n",
        "    return coeff\n"
      ],
      "metadata": {
        "id": "RA8-1RrnMOpw"
      },
      "execution_count": null,
      "outputs": []
    },
    {
      "cell_type": "markdown",
      "source": [
        "Load data from https://sharon.srworkspace.com/ml/datasets/hw3/abalone.csv"
      ],
      "metadata": {
        "id": "J3qUuz18MR3A"
      }
    },
    {
      "cell_type": "code",
      "source": [
        "# Implement here\n",
        "url = 'https://sharon.srworkspace.com/ml/datasets/hw3/abalone.csv'\n",
        "df = pd.read_csv(url,header = None)\n",
        "print(df.head())"
      ],
      "metadata": {
        "id": "FBnctOlsMVCT",
        "colab": {
          "base_uri": "https://localhost:8080/"
        },
        "outputId": "658e523a-c9fc-4cf1-8a57-5496a2c677de"
      },
      "execution_count": null,
      "outputs": [
        {
          "output_type": "stream",
          "name": "stdout",
          "text": [
            "       0      1      2       3       4       5      6   7\n",
            "0  0.455  0.365  0.095  0.5140  0.2245  0.1010  0.150  15\n",
            "1  0.350  0.265  0.090  0.2255  0.0995  0.0485  0.070   7\n",
            "2  0.530  0.420  0.135  0.6770  0.2565  0.1415  0.210   9\n",
            "3  0.440  0.365  0.125  0.5160  0.2155  0.1140  0.155  10\n",
            "4  0.330  0.255  0.080  0.2050  0.0895  0.0395  0.055   7\n"
          ]
        }
      ]
    },
    {
      "cell_type": "markdown",
      "source": [
        "Your tasks are:\n",
        "- Convert to numpy\n",
        "- Preproccess the data\n",
        "- Find the weight vector and the bias"
      ],
      "metadata": {
        "id": "11RHbDzUM1bd"
      }
    },
    {
      "cell_type": "code",
      "source": [
        "from sklearn.preprocessing import StandardScaler\n",
        "\n",
        "# Implement here\n",
        "# 1. Convert to NumPy arrays\n",
        "data = df.to_numpy()\n",
        "\n",
        "# 2. Preprocess the data\n",
        "X = data[:, :-1]\n",
        "y = data[:, -1]\n",
        "# Standard Scaler\n",
        "scaler = StandardScaler()\n",
        "X_scaled = scaler.fit_transform(X)\n",
        "\n",
        "# 3. Find the weight vector and the bias\n",
        "w = Linreg_sol(X_scaled, y)\n",
        "\n",
        "# Suppose w is the solution\n",
        "print(f'The linear line is {w[1]:.2f}x1+{w[2]:.2f}x2+{w[3]:.2f}x3+{w[4]:.2f}x4+{w[5]:.2f}x5+{w[6]:.2f}x6+{w[7]:.2f}x7+{w[0]:.2f}=0')"
      ],
      "metadata": {
        "id": "R4mxOKwiNOY6",
        "colab": {
          "base_uri": "https://localhost:8080/"
        },
        "outputId": "af48c51f-e8f4-42f0-8d76-64090831ec5a"
      },
      "execution_count": null,
      "outputs": [
        {
          "output_type": "stream",
          "name": "stdout",
          "text": [
            "The linear line is -0.19x1+1.33x2+0.49x3+4.53x4+-4.49x5+-1.08x6+1.19x7+9.93=0\n"
          ]
        }
      ]
    },
    {
      "cell_type": "markdown",
      "source": [
        "Now, implement 'Linreg_sol_via_GD' which implement gradient descent on the linear regression problem. The stopping criterion should be based only by the iterations number recived as parameter"
      ],
      "metadata": {
        "id": "yaSOp25BOeHr"
      }
    },
    {
      "cell_type": "code",
      "source": [
        "# https://www.youtube.com/watch?v=4061WI4BEfY a good guide we used for implementation\n",
        "\n",
        "def Linreg_sol_via_GD(X, y, lr, iter_number):\n",
        "    # Number of training examples and number of features\n",
        "    X = np.hstack([np.ones((X.shape[0], 1)), X])\n",
        "    n, d = X.shape[:2]\n",
        "    # Initialize weights to ones\n",
        "    w = np.ones(d)\n",
        "\n",
        "    for _ in range(iter_number):\n",
        "        # Compute the predictions\n",
        "        y_pred = np.dot(X , w)\n",
        "        temp = y_pred - y\n",
        "        # Compute the gradient\n",
        "        gradient = (1/n) * np.dot(X.T , temp)\n",
        "\n",
        "        # Update the weights\n",
        "        w -= lr * gradient\n",
        "\n",
        "    return w"
      ],
      "metadata": {
        "id": "ZYAKYLXkOqT_"
      },
      "execution_count": null,
      "outputs": []
    },
    {
      "cell_type": "markdown",
      "source": [
        "The following code measures the number of iterations as a function of the error gap between the returned weights and the correct solution. <br/>\n",
        "Conclude the complexity formula required - How many iterations do we need as a function of the error, $\\varepsilon$? Make sure to include the $𝚶$ notation in your answer. <br/>\n",
        "Note: This error is sometimes called 'gap'. <br/>\n",
        "<font color='red'>Write your answer here and explain it</font>\n",
        "\n",
        "<font color='red'>\n",
        "The number of iterations $i$ required as a function of the error $\\varepsilon$ is given by:\n",
        "$$ i = \\mathcal{O} \\left( \\log \\left( \\frac{1}{\\varepsilon} \\right) \\right) $$\n",
        "This indicates that the number of iterations grows logarithmically with the inverse of the error.\n",
        "<font color='red'>\n",
        "Gradient Descent Convergence: The error after $i$ iterations of gradient descent can be expressed as:\n",
        "$$ \\varepsilon_i \\leq (1 - \\eta \\lambda_{\\min})^i \\varepsilon_0 $$\n",
        "<font color='red'>\n",
        "Exponential Decay of Error:\n",
        "$$ \\frac{\\varepsilon_i}{\\varepsilon_0} \\leq (1 - \\eta \\lambda_{\\min})^i \\rightarrow \\frac{\\varepsilon_i}{\\varepsilon_0} \\leq \\beta^i $$\n",
        "where $\\beta = 1 - \\eta \\lambda_{\\min}$.\n",
        "<font color='red'>\n",
        "Inequality Involving $\\varepsilon$: We need to find the number of iterations $i$ such that the error $\\varepsilon_i \\leq \\varepsilon$:\n",
        "$$ \\varepsilon_0 \\cdot \\beta^i \\leq \\varepsilon $$\n",
        "<font color='red'>\n",
        "Taking the Logarithm: Taking the natural logarithm on both sides:\n",
        "$$ \\log(\\varepsilon_0 \\cdot \\beta^i) \\leq \\log(\\varepsilon) $$\n",
        "simplifies to\n",
        "$$ \\log(\\varepsilon_0) + i \\log(\\beta) \\leq \\log(\\varepsilon) $$\n",
        "<font color='red'>\n",
        "Solving for $i$:\n",
        "$$ i \\geq \\frac{\\log(\\varepsilon_0 / \\varepsilon)}{|\\log(\\beta)|} $$\n",
        "<font color='red'>\n",
        "Big-O Notation: For large values of $i$, we are interested in the dominant term. The number of iterations $i$ is asymptotically:\n",
        "$$ i = \\mathcal{O} \\left( \\log \\left( \\frac{1}{\\varepsilon} \\right) \\right) $$\n",
        "}"
      ],
      "metadata": {
        "id": "oHM4VX52OyYN"
      }
    },
    {
      "cell_type": "code",
      "source": [
        "w_real = w\n",
        "\n",
        "iters = np.arange(1000, 10_000, 100)\n",
        "gaps = []\n",
        "\n",
        "for iter in tqdm(iters):\n",
        "    w = Linreg_sol_via_GD(X_scaled, y, lr=0.1, iter_number= iter)\n",
        "    gaps.append(np.linalg.norm(w_real - w))\n",
        "\n",
        "plt.plot(gaps, iters)\n",
        "plt.ylabel(\"iterations_number\")\n",
        "plt.xlabel(\"error gap\")\n",
        "plt.show()"
      ],
      "metadata": {
        "id": "5q_dPBRTOzds",
        "colab": {
          "base_uri": "https://localhost:8080/",
          "height": 466
        },
        "outputId": "7f34f373-f9d8-4b96-8785-210bc77b83cb"
      },
      "execution_count": null,
      "outputs": [
        {
          "output_type": "stream",
          "name": "stderr",
          "text": [
            "100%|██████████| 90/90 [00:22<00:00,  4.08it/s]\n"
          ]
        },
        {
          "output_type": "display_data",
          "data": {
            "text/plain": [
              "<Figure size 640x480 with 1 Axes>"
            ],
            "image/png": "[encoded data removed]"
          },
          "metadata": {}
        }
      ]
    },
    {
      "cell_type": "markdown",
      "source": [
        "In the second part of the task, we will see the features dependence and try to solve it."
      ],
      "metadata": {
        "id": "8t42UEXrQYJI"
      }
    },
    {
      "cell_type": "markdown",
      "source": [
        "Calculate the the value of $\\text{Cov}(X)=\\frac{1}{n-1}(X-\\mu)^\\top (X-\\mu)$? <br/>\n",
        "- What can you imply from this about the features?\n",
        "- Can we imply something on $X^\\top X$? Must its det be 0?\n",
        "\n",
        "Note: In your calculations, make sure the bias is not included as feature. <br/>\n",
        "<font color='red'>Write your answers here and explain it</font>\n",
        "<font color='red'>\n",
        "1. Based on coveriance heatmap, it's noticably that some values have strong correlation and some are not. for eg, 0.24 has a strong correlation indicates dependent features and there are low correlation indicates to indpendent features.  a non-zero one implies that the matrix\n",
        "$ 𝑋^𝑇X$ is  invertible, indicating that the features do not have perfect multicollinearity.\n",
        "<font color='red'>\n",
        "2. The determinant of the matrix is 173411718.97092056 impling that the matrix is invertible, which is a necessary condition for solving the normal equations in linear regression.In case of $det = 0$ would indicate perfect multicollinearity. For $X^T X$ to be invertible, its determinant must not be zero."
      ],
      "metadata": {
        "id": "mibS-tKkNwC0"
      }
    },
    {
      "cell_type": "code",
      "source": [
        "import seaborn as sns\n",
        "# Implement here\n",
        "def calculate_covariance_matrix(X):\n",
        "    # Number of samples\n",
        "    n = X.shape[0]\n",
        "    mu = np.mean(X, axis=0)\n",
        "    X_centered = X - mu\n",
        "\n",
        "    # Calculate the covariance matrix\n",
        "    cov_matrix = (1 / (n - 1)) * np.dot(X_centered.T, X_centered)\n",
        "\n",
        "    # Calculating Determinant value\n",
        "    XTX = np.dot(X.T, X)\n",
        "    det_XTX = np.linalg.det(XTX)\n",
        "\n",
        "    return cov_matrix, det_XTX\n",
        "\n",
        "\n",
        "covariance_matrix, det_XTX = calculate_covariance_matrix(X)\n",
        "plt.figure(figsize=(8, 6))\n",
        "sns.heatmap(covariance_matrix, annot=True, fmt=\".2f\", cmap='coolwarm')\n",
        "plt.title(\"Heatmap of Covariance Matrix\")\n",
        "plt.show()\n",
        "\n",
        "print(f\"det_XTX = {det_XTX}\")"
      ],
      "metadata": {
        "id": "zjeP8fMxOUyP",
        "colab": {
          "base_uri": "https://localhost:8080/",
          "height": 562
        },
        "outputId": "42ca975e-02f9-4819-f2be-0503b629047e"
      },
      "execution_count": null,
      "outputs": [
        {
          "output_type": "display_data",
          "data": {
            "text/plain": [
              "<Figure size 800x600 with 2 Axes>"
            ],
            "image/png": "[encoded data removed]"
          },
          "metadata": {}
        },
        {
          "output_type": "stream",
          "name": "stdout",
          "text": [
            "det_XTX = 173411718.97092056\n"
          ]
        }
      ]
    },
    {
      "cell_type": "markdown",
      "source": [
        "Implement the solution to ridge regression using GD."
      ],
      "metadata": {
        "id": "2QAw7kjLd6Dz"
      }
    },
    {
      "cell_type": "code",
      "source": [
        "# no need for gradient descent as Sharon requested\n",
        "def Linreg_sol_Ridge(X, y, lamda):\n",
        "    # Number of training examples and number of features\n",
        "    X = np.hstack([np.ones((X.shape[0], 1)), X])\n",
        "    n, d = X.shape\n",
        "    I = np.eye(d)\n",
        "    I[0, 0] = 0\n",
        "    w = np.linalg.inv(np.dot(X.T , X) + lamda * I) @ X.T @ y\n",
        "    return w"
      ],
      "metadata": {
        "id": "2JrsNgCQeGzC"
      },
      "execution_count": null,
      "outputs": []
    },
    {
      "cell_type": "markdown",
      "source": [
        "The following code measures the mse error as function of the regularization hyperparameter lamda. <br/>Explain the origin to the mse' behaviour as function of lamda in this problem. <br/>\n",
        "<font color='red'>Write your answer here and explain it</font>\n",
        "\n",
        "<font color='red'>\n",
        "Depending on the value of $\\lambda$ : </br>\n",
        "1. Case $\\lambda$ value is small, it would result Low bias, high variance, potentially low training MSE but high validation/test MSE (overfitting). </br>\n",
        "<font color='red'>\n",
        "2. Case $\\lambda$ value is Moderate, Balanced bias-variance tradeoff, optimal validation/test MSE. </br>\n",
        "<font color='red'>\n",
        "3. Case $\\lambda$ value is Large, High bias, low variance, higher training and validation/test MSE (underfitting). </br>\n",
        "Moderate\n",
        "<font color='red'>\n",
        "The behavior of MSE as a function of $\\lambda$ follows a U-shaped curve: initially decreasing as regularization prevents overfitting, reaching a minimum, and then increasing as the model becomes too simple and underfits the data."
      ],
      "metadata": {
        "id": "xQ6qmbqWkq8w"
      }
    },
    {
      "cell_type": "code",
      "source": [
        "mses = []\n",
        "lamdas = np.arange(0.1, 10.1, 0.1)\n",
        "X_for_reg = X_scaled\n",
        "for lamda in lamdas:\n",
        "\n",
        "    w = Linreg_sol_Ridge(X_for_reg, y, lamda)\n",
        "\n",
        "    preds = np.dot(np.hstack([np.ones((X_for_reg.shape[0], 1)), X_for_reg]), w)\n",
        "    mses.append(np.mean((preds - y) ** 2))\n",
        "\n",
        "plt.plot(lamdas, mses)\n",
        "plt.ylabel(\"error\")\n",
        "plt.xlabel(\"lamda\")\n",
        "plt.show()"
      ],
      "metadata": {
        "id": "9aJpgYNIkvYt",
        "colab": {
          "base_uri": "https://localhost:8080/",
          "height": 449
        },
        "outputId": "7ebe8813-8b1f-4e0f-aad4-8f1ddb65ad63"
      },
      "execution_count": null,
      "outputs": [
        {
          "output_type": "display_data",
          "data": {
            "text/plain": [
              "<Figure size 640x480 with 1 Axes>"
            ],
            "image/png": "[encoded data removed]"
          },
          "metadata": {}
        }
      ]
    },
    {
      "cell_type": "markdown",
      "source": [
        "## Question 3 - Decision tree"
      ],
      "metadata": {
        "id": "loHiZy0lVzT0"
      }
    },
    {
      "cell_type": "markdown",
      "source": [
        "Recall the wine dataset from hw1, where we classified wine types based on their physical and chemical properties. You will do it, but this time with decision trees!"
      ],
      "metadata": {
        "id": "34peWE4XiSmH"
      }
    },
    {
      "cell_type": "code",
      "source": [
        "# Import libraries\n",
        "\n",
        "import numpy as np\n",
        "import pandas as pd"
      ],
      "metadata": {
        "id": "w8LUgNO8V1Ut"
      },
      "execution_count": null,
      "outputs": []
    },
    {
      "cell_type": "code",
      "source": [
        "# Load the data, print the first rows\n",
        "\n",
        "data = pd.read_csv('https://sharon.srworkspace.com/ml/datasets/hw1/wine.data.csv')\n",
        "data.head(3)"
      ],
      "metadata": {
        "id": "-PZdW625WCTa",
        "colab": {
          "base_uri": "https://localhost:8080/",
          "height": 161
        },
        "outputId": "3c3babcc-f865-44c6-a1df-e3471fd4531f"
      },
      "execution_count": null,
      "outputs": [
        {
          "output_type": "execute_result",
          "data": {
            "text/plain": [
              "   Alcohol  Malic acid   Ash  Alcalinity of ash  Magnesium  Total phenols  \\\n",
              "0    14.23        1.71  2.43               15.6        127           2.80   \n",
              "1    13.20        1.78  2.14               11.2        100           2.65   \n",
              "2    13.16        2.36  2.67               18.6        101           2.80   \n",
              "\n",
              "   Flavanoids  Nonflavanoid phenols  Proanthocyanins  Color intensity   Hue  \\\n",
              "0        3.06                  0.28             2.29             5.64  1.04   \n",
              "1        2.76                  0.26             1.28             4.38  1.05   \n",
              "2        3.24                  0.30             2.81             5.68  1.03   \n",
              "\n",
              "   OD280/OD315 of diluted wines  Proline  Class  \n",
              "0                          3.92     1065      1  \n",
              "1                          3.40     1050      1  \n",
              "2                          3.17     1185      1  "
            ],
            "text/html": [
              "\n",
              "  <div id=\"df-5cb9e7ac-d4cb-424b-9f33-3a8eb2ed4059\" class=\"colab-df-container\">\n",
              "    <div>\n",
              "<style scoped>\n",
              "    .dataframe tbody tr th:only-of-type {\n",
              "        vertical-align: middle;\n",
              "    }\n",
              "\n",
              "    .dataframe tbody tr th {\n",
              "        vertical-align: top;\n",
              "    }\n",
              "\n",
              "    .dataframe thead th {\n",
              "        text-align: right;\n",
              "    }\n",
              "</style>\n",
              "<table border=\"1\" class=\"dataframe\">\n",
              "  <thead>\n",
              "    <tr style=\"text-align: right;\">\n",
              "      <th></th>\n",
              "      <th>Alcohol</th>\n",
              "      <th>Malic acid</th>\n",
              "      <th>Ash</th>\n",
              "      <th>Alcalinity of ash</th>\n",
              "      <th>Magnesium</th>\n",
              "      <th>Total phenols</th>\n",
              "      <th>Flavanoids</th>\n",
              "      <th>Nonflavanoid phenols</th>\n",
              "      <th>Proanthocyanins</th>\n",
              "      <th>Color intensity</th>\n",
              "      <th>Hue</th>\n",
              "      <th>OD280/OD315 of diluted wines</th>\n",
              "      <th>Proline</th>\n",
              "      <th>Class</th>\n",
              "    </tr>\n",
              "  </thead>\n",
              "  <tbody>\n",
              "    <tr>\n",
              "      <th>0</th>\n",
              "      <td>14.23</td>\n",
              "      <td>1.71</td>\n",
              "      <td>2.43</td>\n",
              "      <td>15.6</td>\n",
              "      <td>127</td>\n",
              "      <td>2.80</td>\n",
              "      <td>3.06</td>\n",
              "      <td>0.28</td>\n",
              "      <td>2.29</td>\n",
              "      <td>5.64</td>\n",
              "      <td>1.04</td>\n",
              "      <td>3.92</td>\n",
              "      <td>1065</td>\n",
              "      <td>1</td>\n",
              "    </tr>\n",
              "    <tr>\n",
              "      <th>1</th>\n",
              "      <td>13.20</td>\n",
              "      <td>1.78</td>\n",
              "      <td>2.14</td>\n",
              "      <td>11.2</td>\n",
              "      <td>100</td>\n",
              "      <td>2.65</td>\n",
              "      <td>2.76</td>\n",
              "      <td>0.26</td>\n",
              "      <td>1.28</td>\n",
              "      <td>4.38</td>\n",
              "      <td>1.05</td>\n",
              "      <td>3.40</td>\n",
              "      <td>1050</td>\n",
              "      <td>1</td>\n",
              "    </tr>\n",
              "    <tr>\n",
              "      <th>2</th>\n",
              "      <td>13.16</td>\n",
              "      <td>2.36</td>\n",
              "      <td>2.67</td>\n",
              "      <td>18.6</td>\n",
              "      <td>101</td>\n",
              "      <td>2.80</td>\n",
              "      <td>3.24</td>\n",
              "      <td>0.30</td>\n",
              "      <td>2.81</td>\n",
              "      <td>5.68</td>\n",
              "      <td>1.03</td>\n",
              "      <td>3.17</td>\n",
              "      <td>1185</td>\n",
              "      <td>1</td>\n",
              "    </tr>\n",
              "  </tbody>\n",
              "</table>\n",
              "</div>\n",
              "    <div class=\"colab-df-buttons\">\n",
              "\n",
              "  <div class=\"colab-df-container\">\n",
              "    <button class=\"colab-df-convert\" onclick=\"convertToInteractive('df-5cb9e7ac-d4cb-424b-9f33-3a8eb2ed4059')\"\n",
              "            title=\"Convert this dataframe to an interactive table.\"\n",
              "            style=\"display:none;\">\n",
              "\n",
              "  <svg xmlns=\"http://www.w3.org/2000/svg\" height=\"24px\" viewBox=\"0 -960 960 960\">\n",
              "    <path d=\"M120-120v-720h720v720H120Zm60-500h600v-160H180v160Zm220 220h160v-160H400v160Zm0 220h160v-160H400v160ZM180-400h160v-160H180v160Zm440 0h160v-160H620v160ZM180-180h160v-160H180v160Zm440 0h160v-160H620v160Z\"/>\n",
              "  </svg>\n",
              "    </button>\n",
              "\n",
              "  <style>\n",
              "    .colab-df-container {\n",
              "      display:flex;\n",
              "      gap: 12px;\n",
              "    }\n",
              "\n",
              "    .colab-df-convert {\n",
              "      background-color: #E8F0FE;\n",
              "      border: none;\n",
              "      border-radius: 50%;\n",
              "      cursor: pointer;\n",
              "      display: none;\n",
              "      fill: #1967D2;\n",
              "      height: 32px;\n",
              "      padding: 0 0 0 0;\n",
              "      width: 32px;\n",
              "    }\n",
              "\n",
              "    .colab-df-convert:hover {\n",
              "      background-color: #E2EBFA;\n",
              "      box-shadow: 0px 1px 2px rgba(60, 64, 67, 0.3), 0px 1px 3px 1px rgba(60, 64, 67, 0.15);\n",
              "      fill: #174EA6;\n",
              "    }\n",
              "\n",
              "    .colab-df-buttons div {\n",
              "      margin-bottom: 4px;\n",
              "    }\n",
              "\n",
              "    [theme=dark] .colab-df-convert {\n",
              "      background-color: #3B4455;\n",
              "      fill: #D2E3FC;\n",
              "    }\n",
              "\n",
              "    [theme=dark] .colab-df-convert:hover {\n",
              "      background-color: #434B5C;\n",
              "      box-shadow: 0px 1px 3px 1px rgba(0, 0, 0, 0.15);\n",
              "      filter: drop-shadow(0px 1px 2px rgba(0, 0, 0, 0.3));\n",
              "      fill: #FFFFFF;\n",
              "    }\n",
              "  </style>\n",
              "\n",
              "    <script>\n",
              "      const buttonEl =\n",
              "        document.querySelector('#df-5cb9e7ac-d4cb-424b-9f33-3a8eb2ed4059 button.colab-df-convert');\n",
              "      buttonEl.style.display =\n",
              "        google.colab.kernel.accessAllowed ? 'block' : 'none';\n",
              "\n",
              "      async function convertToInteractive(key) {\n",
              "        const element = document.querySelector('#df-5cb9e7ac-d4cb-424b-9f33-3a8eb2ed4059');\n",
              "        const dataTable =\n",
              "          await google.colab.kernel.invokeFunction('convertToInteractive',\n",
              "                                                    [key], {});\n",
              "        if (!dataTable) return;\n",
              "\n",
              "        const docLinkHtml = 'Like what you see? Visit the ' +\n",
              "          '<a target=\"_blank\" href=https://colab.research.google.com/notebooks/data_table.ipynb>data table notebook</a>'\n",
              "          + ' to learn more about interactive tables.';\n",
              "        element.innerHTML = '';\n",
              "        dataTable['output_type'] = 'display_data';\n",
              "        await google.colab.output.renderOutput(dataTable, element);\n",
              "        const docLink = document.createElement('div');\n",
              "        docLink.innerHTML = docLinkHtml;\n",
              "        element.appendChild(docLink);\n",
              "      }\n",
              "    </script>\n",
              "  </div>\n",
              "\n",
              "\n",
              "<div id=\"df-c1d996d9-2110-497a-9563-8e1d156afb2b\">\n",
              "  <button class=\"colab-df-quickchart\" onclick=\"quickchart('df-c1d996d9-2110-497a-9563-8e1d156afb2b')\"\n",
              "            title=\"Suggest charts\"\n",
              "            style=\"display:none;\">\n",
              "\n",
              "<svg xmlns=\"http://www.w3.org/2000/svg\" height=\"24px\"viewBox=\"0 0 24 24\"\n",
              "     width=\"24px\">\n",
              "    <g>\n",
              "        <path d=\"M19 3H5c-1.1 0-2 .9-2 2v14c0 1.1.9 2 2 2h14c1.1 0 2-.9 2-2V5c0-1.1-.9-2-2-2zM9 17H7v-7h2v7zm4 0h-2V7h2v10zm4 0h-2v-4h2v4z\"/>\n",
              "    </g>\n",
              "</svg>\n",
              "  </button>\n",
              "\n",
              "<style>\n",
              "  .colab-df-quickchart {\n",
              "      --bg-color: #E8F0FE;\n",
              "      --fill-color: #1967D2;\n",
              "      --hover-bg-color: #E2EBFA;\n",
              "      --hover-fill-color: #174EA6;\n",
              "      --disabled-fill-color: #AAA;\n",
              "      --disabled-bg-color: #DDD;\n",
              "  }\n",
              "\n",
              "  [theme=dark] .colab-df-quickchart {\n",
              "      --bg-color: #3B4455;\n",
              "      --fill-color: #D2E3FC;\n",
              "      --hover-bg-color: #434B5C;\n",
              "      --hover-fill-color: #FFFFFF;\n",
              "      --disabled-bg-color: #3B4455;\n",
              "      --disabled-fill-color: #666;\n",
              "  }\n",
              "\n",
              "  .colab-df-quickchart {\n",
              "    background-color: var(--bg-color);\n",
              "    border: none;\n",
              "    border-radius: 50%;\n",
              "    cursor: pointer;\n",
              "    display: none;\n",
              "    fill: var(--fill-color);\n",
              "    height: 32px;\n",
              "    padding: 0;\n",
              "    width: 32px;\n",
              "  }\n",
              "\n",
              "  .colab-df-quickchart:hover {\n",
              "    background-color: var(--hover-bg-color);\n",
              "    box-shadow: 0 1px 2px rgba(60, 64, 67, 0.3), 0 1px 3px 1px rgba(60, 64, 67, 0.15);\n",
              "    fill: var(--button-hover-fill-color);\n",
              "  }\n",
              "\n",
              "  .colab-df-quickchart-complete:disabled,\n",
              "  .colab-df-quickchart-complete:disabled:hover {\n",
              "    background-color: var(--disabled-bg-color);\n",
              "    fill: var(--disabled-fill-color);\n",
              "    box-shadow: none;\n",
              "  }\n",
              "\n",
              "  .colab-df-spinner {\n",
              "    border: 2px solid var(--fill-color);\n",
              "    border-color: transparent;\n",
              "    border-bottom-color: var(--fill-color);\n",
              "    animation:\n",
              "      spin 1s steps(1) infinite;\n",
              "  }\n",
              "\n",
              "  @keyframes spin {\n",
              "    0% {\n",
              "      border-color: transparent;\n",
              "      border-bottom-color: var(--fill-color);\n",
              "      border-left-color: var(--fill-color);\n",
              "    }\n",
              "    20% {\n",
              "      border-color: transparent;\n",
              "      border-left-color: var(--fill-color);\n",
              "      border-top-color: var(--fill-color);\n",
              "    }\n",
              "    30% {\n",
              "      border-color: transparent;\n",
              "      border-left-color: var(--fill-color);\n",
              "      border-top-color: var(--fill-color);\n",
              "      border-right-color: var(--fill-color);\n",
              "    }\n",
              "    40% {\n",
              "      border-color: transparent;\n",
              "      border-right-color: var(--fill-color);\n",
              "      border-top-color: var(--fill-color);\n",
              "    }\n",
              "    60% {\n",
              "      border-color: transparent;\n",
              "      border-right-color: var(--fill-color);\n",
              "    }\n",
              "    80% {\n",
              "      border-color: transparent;\n",
              "      border-right-color: var(--fill-color);\n",
              "      border-bottom-color: var(--fill-color);\n",
              "    }\n",
              "    90% {\n",
              "      border-color: transparent;\n",
              "      border-bottom-color: var(--fill-color);\n",
              "    }\n",
              "  }\n",
              "</style>\n",
              "\n",
              "  <script>\n",
              "    async function quickchart(key) {\n",
              "      const quickchartButtonEl =\n",
              "        document.querySelector('#' + key + ' button');\n",
              "      quickchartButtonEl.disabled = true;  // To prevent multiple clicks.\n",
              "      quickchartButtonEl.classList.add('colab-df-spinner');\n",
              "      try {\n",
              "        const charts = await google.colab.kernel.invokeFunction(\n",
              "            'suggestCharts', [key], {});\n",
              "      } catch (error) {\n",
              "        console.error('Error during call to suggestCharts:', error);\n",
              "      }\n",
              "      quickchartButtonEl.classList.remove('colab-df-spinner');\n",
              "      quickchartButtonEl.classList.add('colab-df-quickchart-complete');\n",
              "    }\n",
              "    (() => {\n",
              "      let quickchartButtonEl =\n",
              "        document.querySelector('#df-c1d996d9-2110-497a-9563-8e1d156afb2b button');\n",
              "      quickchartButtonEl.style.display =\n",
              "        google.colab.kernel.accessAllowed ? 'block' : 'none';\n",
              "    })();\n",
              "  </script>\n",
              "</div>\n",
              "\n",
              "    </div>\n",
              "  </div>\n"
            ],
            "application/vnd.google.colaboratory.intrinsic+json": {
              "type": "dataframe",
              "variable_name": "data",
              "summary": "{\n  \"name\": \"data\",\n  \"rows\": 178,\n  \"fields\": [\n    {\n      \"column\": \"Alcohol\",\n      \"properties\": {\n        \"dtype\": \"number\",\n        \"std\": 0.8118265380058575,\n        \"min\": 11.03,\n        \"max\": 14.83,\n        \"num_unique_values\": 126,\n        \"samples\": [\n          11.62,\n          13.64,\n          13.69\n        ],\n        \"semantic_type\": \"\",\n        \"description\": \"\"\n      }\n    },\n    {\n      \"column\": \"Malic acid\",\n      \"properties\": {\n        \"dtype\": \"number\",\n        \"std\": 1.1171460976144627,\n        \"min\": 0.74,\n        \"max\": 5.8,\n        \"num_unique_values\": 133,\n        \"samples\": [\n          1.21,\n          2.83,\n          1.8\n        ],\n        \"semantic_type\": \"\",\n        \"description\": \"\"\n      }\n    },\n    {\n      \"column\": \"Ash\",\n      \"properties\": {\n        \"dtype\": \"number\",\n        \"std\": 0.27434400906081485,\n        \"min\": 1.36,\n        \"max\": 3.23,\n        \"num_unique_values\": 79,\n        \"samples\": [\n          2.31,\n          2.43,\n          2.52\n        ],\n        \"semantic_type\": \"\",\n        \"description\": \"\"\n      }\n    },\n    {\n      \"column\": \"Alcalinity of ash\",\n      \"properties\": {\n        \"dtype\": \"number\",\n        \"std\": 3.339563767173505,\n        \"min\": 10.6,\n        \"max\": 30.0,\n        \"num_unique_values\": 63,\n        \"samples\": [\n          25.5,\n          28.5,\n          15.6\n        ],\n        \"semantic_type\": \"\",\n        \"description\": \"\"\n      }\n    },\n    {\n      \"column\": \"Magnesium\",\n      \"properties\": {\n        \"dtype\": \"number\",\n        \"std\": 14,\n        \"min\": 70,\n        \"max\": 162,\n        \"num_unique_values\": 53,\n        \"samples\": [\n          126,\n          85,\n          162\n        ],\n        \"semantic_type\": \"\",\n        \"description\": \"\"\n      }\n    },\n    {\n      \"column\": \"Total phenols\",\n      \"properties\": {\n        \"dtype\": \"number\",\n        \"std\": 0.6258510488339893,\n        \"min\": 0.98,\n        \"max\": 3.88,\n        \"num_unique_values\": 97,\n        \"samples\": [\n          1.68,\n          2.11,\n          1.35\n        ],\n        \"semantic_type\": \"\",\n        \"description\": \"\"\n      }\n    },\n    {\n      \"column\": \"Flavanoids\",\n      \"properties\": {\n        \"dtype\": \"number\",\n        \"std\": 0.9988586850169467,\n        \"min\": 0.34,\n        \"max\": 5.08,\n        \"num_unique_values\": 132,\n        \"samples\": [\n          3.18,\n          2.5,\n          3.17\n        ],\n        \"semantic_type\": \"\",\n        \"description\": \"\"\n      }\n    },\n    {\n      \"column\": \"Nonflavanoid phenols\",\n      \"properties\": {\n        \"dtype\": \"number\",\n        \"std\": 0.12445334029667937,\n        \"min\": 0.13,\n        \"max\": 0.66,\n        \"num_unique_values\": 39,\n        \"samples\": [\n          0.58,\n          0.41,\n          0.39\n        ],\n        \"semantic_type\": \"\",\n        \"description\": \"\"\n      }\n    },\n    {\n      \"column\": \"Proanthocyanins\",\n      \"properties\": {\n        \"dtype\": \"number\",\n        \"std\": 0.5723588626747613,\n        \"min\": 0.41,\n        \"max\": 3.58,\n        \"num_unique_values\": 101,\n        \"samples\": [\n          0.75,\n          1.77,\n          1.42\n        ],\n        \"semantic_type\": \"\",\n        \"description\": \"\"\n      }\n    },\n    {\n      \"column\": \"Color intensity\",\n      \"properties\": {\n        \"dtype\": \"number\",\n        \"std\": 2.318285871822413,\n        \"min\": 1.28,\n        \"max\": 13.0,\n        \"num_unique_values\": 132,\n        \"samples\": [\n          2.95,\n          3.3,\n          5.1\n        ],\n        \"semantic_type\": \"\",\n        \"description\": \"\"\n      }\n    },\n    {\n      \"column\": \"Hue\",\n      \"properties\": {\n        \"dtype\": \"number\",\n        \"std\": 0.22857156582982338,\n        \"min\": 0.48,\n        \"max\": 1.71,\n        \"num_unique_values\": 78,\n        \"samples\": [\n          1.22,\n          1.04,\n          1.45\n        ],\n        \"semantic_type\": \"\",\n        \"description\": \"\"\n      }\n    },\n    {\n      \"column\": \"OD280/OD315 of diluted wines\",\n      \"properties\": {\n        \"dtype\": \"number\",\n        \"std\": 0.7099904287650504,\n        \"min\": 1.27,\n        \"max\": 4.0,\n        \"num_unique_values\": 122,\n        \"samples\": [\n          4.0,\n          1.82,\n          1.59\n        ],\n        \"semantic_type\": \"\",\n        \"description\": \"\"\n      }\n    },\n    {\n      \"column\": \"Proline\",\n      \"properties\": {\n        \"dtype\": \"number\",\n        \"std\": 314,\n        \"min\": 278,\n        \"max\": 1680,\n        \"num_unique_values\": 121,\n        \"samples\": [\n          1375,\n          1270,\n          735\n        ],\n        \"semantic_type\": \"\",\n        \"description\": \"\"\n      }\n    },\n    {\n      \"column\": \"Class\",\n      \"properties\": {\n        \"dtype\": \"number\",\n        \"std\": 0,\n        \"min\": 1,\n        \"max\": 3,\n        \"num_unique_values\": 3,\n        \"samples\": [\n          1,\n          2,\n          3\n        ],\n        \"semantic_type\": \"\",\n        \"description\": \"\"\n      }\n    }\n  ]\n}"
            }
          },
          "metadata": {},
          "execution_count": 26
        }
      ]
    },
    {
      "cell_type": "markdown",
      "source": [
        "Complete this missing implementation of the following functions:\n",
        "- ```calculate_entropy(self, data)``` – given data, compute the entropy, where the distribution is over its labels (target class).\n",
        "- ```calculate_information_gain(self, data, feature)``` – given data and specific feature, compute the information gain given by selecting that feature.\n",
        "\n",
        "Algorithm: The data is continuous, so create 10 thresholds between the min and max values of that feature. For each threshold, split to left tree and right tree and calculate the gain. Choose the threshold which gives the highest gain, along with the gain itself (to later compare between features) <br/>\n",
        "\n",
        "Tip: To split the tree (represented by data df), use filter_data.\n",
        "For example, when calculating the gain of 'skew' with threshold 0.5, you can create the left tree by use ```filter_data(data, 'skew', '0.5', left=True)``` to obtain only those samples."
      ],
      "metadata": {
        "id": "aISL11PniuiG"
      }
    },
    {
      "cell_type": "code",
      "source": [
        "class DecisionTree:\n",
        "    def __init__(self, max_depth=np.inf):\n",
        "        self.tree = {}\n",
        "        self.max_depth = max_depth\n",
        "\n",
        "    def calculate_entropy(self, data):\n",
        "        labels = data.iloc[:, -1]\n",
        "        label_counts = labels.value_counts()\n",
        "        probabilities = label_counts / len(labels)\n",
        "        entropy = -np.sum(probabilities * np.log2(probabilities))\n",
        "        return entropy\n",
        "\n",
        "    def calculate_information_gain(self, data, feature):\n",
        "        total_entropy = self.calculate_entropy(data)\n",
        "        information_gain = total_entropy\n",
        "\n",
        "        feature_values = data[feature]\n",
        "        min_value, max_value = feature_values.min(), feature_values.max()\n",
        "        thresholds = np.linspace(min_value, max_value, 10)\n",
        "        values = thresholds\n",
        "\n",
        "        best_threshold = None\n",
        "        best_gain = 0\n",
        "        for value in values:\n",
        "            left_split = self.filter_data(data, feature, value, left=True)\n",
        "            right_split = self.filter_data(data, feature, value, left=False)\n",
        "\n",
        "            if len(left_split) == 0 or len(right_split) == 0:\n",
        "                continue\n",
        "\n",
        "            left_entropy = self.calculate_entropy(left_split)\n",
        "            right_entropy = self.calculate_entropy(right_split)\n",
        "\n",
        "            weighted_entropy = (len(left_split) / len(data)) * left_entropy + (len(right_split) / len(data)) * right_entropy\n",
        "            gain = total_entropy - weighted_entropy\n",
        "\n",
        "            if gain > best_gain:\n",
        "                best_gain = gain\n",
        "                best_threshold = value\n",
        "        return best_gain, best_threshold\n",
        "\n",
        "    def filter_data(self, data, feature, value, left=True):\n",
        "        if left:\n",
        "            return data[data[feature] <= value].drop(feature, axis=1)\n",
        "        else:\n",
        "            return data[data[feature] > value].drop(feature, axis=1)\n",
        "\n",
        "    def create_tree(self, data, depth=0):\n",
        "\n",
        "\n",
        "        labels = data.iloc[:, -1]  # Extract the target labels\n",
        "\n",
        "        if len(np.unique(labels)) == 1 or depth >= self.max_depth:\n",
        "            unique_labels, label_counts = np.unique(labels, return_counts=True)\n",
        "            majority_label = unique_labels[label_counts.argmax()]\n",
        "            return majority_label\n",
        "\n",
        "        features = data.columns.tolist()[:-1]\n",
        "        if len(features) == 0:\n",
        "            unique_labels, label_counts = np.unique(labels, return_counts=True)\n",
        "            majority_label = unique_labels[label_counts.argmax()]\n",
        "            return majority_label\n",
        "\n",
        "        selected_feature = None\n",
        "        best_gain = 0\n",
        "        best_threshold = None\n",
        "\n",
        "        for feature in features:\n",
        "            gain, threshold = self.calculate_information_gain(data, feature)\n",
        "            if gain >= best_gain:\n",
        "                selected_feature = feature\n",
        "                best_threshold = threshold\n",
        "                best_gain = gain\n",
        "\n",
        "        tree_node = {}\n",
        "        left_split = self.filter_data(data, selected_feature, best_threshold, left=True)\n",
        "        right_split = self.filter_data(data, selected_feature, best_threshold, left=False)\n",
        "\n",
        "        if len(left_split) == 0 or len(right_split) == 0:\n",
        "            unique_labels, label_counts = np.unique(labels, return_counts=True)\n",
        "            majority_label = unique_labels[label_counts.argmax()]\n",
        "            return majority_label\n",
        "\n",
        "\n",
        "\n",
        "        tree_node[(selected_feature, f\"<={best_threshold}\")] = self.create_tree(left_split, depth+1)\n",
        "        tree_node[(selected_feature, f\">{best_threshold}\")] = self.create_tree(right_split, depth+1)\n",
        "\n",
        "        if not isinstance(tree_node[(selected_feature, f\"<={best_threshold}\")], dict) and \\\n",
        "                not isinstance(tree_node[(selected_feature, f\">{best_threshold}\")], dict):\n",
        "            if tree_node[(selected_feature, f\"<={best_threshold}\")] == tree_node[(selected_feature, f\">{best_threshold}\")]:\n",
        "                return tree_node[(selected_feature, f\"<={best_threshold}\")]\n",
        "\n",
        "        return tree_node\n",
        "\n",
        "    def fit(self, data):\n",
        "        self.tree = self.create_tree(data)\n",
        "\n",
        "    def predict(self, X):\n",
        "        X = [row[1] for row in X.iterrows()]\n",
        "\n",
        "        predictions = []\n",
        "\n",
        "        for row in X:\n",
        "            current_node = self.tree\n",
        "            while isinstance(current_node, dict):\n",
        "                split_condition = next(iter(current_node))\n",
        "                feature, value = split_condition\n",
        "                threshold = float(value[2:])\n",
        "                if row[feature] <= threshold:\n",
        "                    current_node = current_node[feature, f\"<={threshold}\"]\n",
        "                else:\n",
        "                    current_node = current_node[feature, f\">{threshold}\"]\n",
        "            predictions.append(current_node)\n",
        "\n",
        "        return predictions\n",
        "\n",
        "    def _plot(self, tree, indent=0):\n",
        "        depth = 1\n",
        "        if not isinstance(tree, dict):\n",
        "            print(\" \" * indent + str(tree))\n",
        "            return depth\n",
        "\n",
        "        for key, value in tree.items():\n",
        "            print(\" \" * indent + str(key) + \":\")\n",
        "            if isinstance(value, dict):\n",
        "                depth = max(depth, 1 + self._plot(value, indent + 2))\n",
        "            else:\n",
        "                print(\" \" * (indent + 2) + str(value))\n",
        "        return depth\n",
        "\n",
        "    def plot(self):\n",
        "        depth = self._plot(self.tree, 0)\n",
        "        print(f'depth is {depth}')\n"
      ],
      "metadata": {
        "id": "-IqUorHMV-tr"
      },
      "execution_count": null,
      "outputs": []
    },
    {
      "cell_type": "markdown",
      "source": [
        "You are ready - define DecisionTree, fit it on the entire data and plot the tree. <br/>\n",
        "The depth of the tree should be 5"
      ],
      "metadata": {
        "id": "IdezpzK9WHwv"
      }
    },
    {
      "cell_type": "code",
      "source": [
        "# Implement here\n",
        "# Initialize the DecisionTree\n",
        "tree = DecisionTree()\n",
        "# Fit the DecisionTree\n",
        "tree.fit(data)\n",
        "\n",
        "# Plot the tree\n",
        "tree.plot()"
      ],
      "metadata": {
        "id": "HgSriNidWHW9",
        "colab": {
          "base_uri": "https://localhost:8080/"
        },
        "outputId": "354c386b-9bf3-4108-acc5-a876e1685f5e"
      },
      "execution_count": null,
      "outputs": [
        {
          "output_type": "stream",
          "name": "stdout",
          "text": [
            "('Flavanoids', '<=1.3933333333333335'):\n",
            "  ('Color intensity', '<=4.405555555555556'):\n",
            "    ('Hue', '<=0.9022222222222223'):\n",
            "      ('Proline', '<=372.0'):\n",
            "        2\n",
            "      ('Proline', '>372.0'):\n",
            "        3\n",
            "    ('Hue', '>0.9022222222222223'):\n",
            "      ('Malic acid', '<=3.167777777777778'):\n",
            "        2\n",
            "      ('Malic acid', '>3.167777777777778'):\n",
            "        3\n",
            "  ('Color intensity', '>4.405555555555556'):\n",
            "    3\n",
            "('Flavanoids', '>1.3933333333333335'):\n",
            "  ('Proline', '<=745.3333333333333'):\n",
            "    ('Alcohol', '<=13.231111111111112'):\n",
            "      2\n",
            "    ('Alcohol', '>13.231111111111112'):\n",
            "      ('Color intensity', '<=3.96'):\n",
            "        2\n",
            "      ('Color intensity', '>3.96'):\n",
            "        ('OD280/OD315 of diluted wines', '<=1.3'):\n",
            "          3\n",
            "        ('OD280/OD315 of diluted wines', '>1.3'):\n",
            "          1\n",
            "  ('Proline', '>745.3333333333333'):\n",
            "    ('Alcohol', '<=12.597777777777779'):\n",
            "      2\n",
            "    ('Alcohol', '>12.597777777777779'):\n",
            "      ('Color intensity', '<=3.35'):\n",
            "        2\n",
            "      ('Color intensity', '>3.35'):\n",
            "        1\n",
            "depth is 5\n"
          ]
        }
      ]
    },
    {
      "cell_type": "markdown",
      "source": [
        "The decision tree is pretty large (depth is 5). To solve this, lets modify our DecisionTree: <br/>\n",
        "```\n",
        "def __init__(self, max_depth=np.inf):\n",
        "        self.tree = {}\n",
        "        self.max_depth = max_depth\n",
        "```\n",
        "\n",
        "Modify the rest of the code to stop growing after max_depth. <br/>\n",
        "Hint: When reached to max_depth, should we continue splitting? Which category will be best to be selected?\n"
      ],
      "metadata": {
        "id": "RL_ISCptkHCf"
      }
    },
    {
      "cell_type": "markdown",
      "source": [
        "Using 10 thresholds, compare using max_depth=2 and max_depth=4. Based on the results, which depth is better for our problem in term of ML? <br/>\n",
        "<font color='red'>Write your answer here and explain it</font>\n",
        "\n",
        "<font color='red'>Based on the results:\n",
        "max_depth=2: Training Accuracy = 0.9225352112676056, Test Accuracy = 0.8888888888888888\n",
        "\n",
        "max_depth=4: Training Accuracy = 0.9859154929577465, Test Accuracy = 0.8888888888888888 we see that in max depth = 4 we get higher training accuracy than max_depth = 2 but we get the same test accuracy so the obvious choice would be to go with max_depth = 2 because in doing so we make the model simpler and we get reduced complexity for the same test accuracy\n",
        "and also we reduce the chances of overfitting the data so we can handle new data better. </font>"
      ],
      "metadata": {
        "id": "jlbxf36OWuEo"
      }
    },
    {
      "cell_type": "code",
      "source": [
        "from sklearn.model_selection import train_test_split\n",
        "\n",
        "# Split data into training and test sets\n",
        "train, test = train_test_split(data, test_size=0.2, random_state=42)\n",
        "\n",
        "# Initialize a list to store results\n",
        "results = []\n",
        "\n",
        "# Loop over each depth\n",
        "for depth in [2, 4]:\n",
        "    print(f\"------------ max_depth={depth} ------------\")\n",
        "\n",
        "    # Initialize DecisionTree with current max_depth\n",
        "    tree = DecisionTree(max_depth=depth)\n",
        "\n",
        "    # Fit the DecisionTree on training data\n",
        "    tree.fit(train)\n",
        "\n",
        "    # Calculate training accuracy\n",
        "    train_predictions = tree.predict(train)\n",
        "    train_accuracy = np.mean(train_predictions == train.iloc[:, -1])\n",
        "    print(f'Training accuracy is {train_accuracy}')\n",
        "\n",
        "    # Calculate test accuracy\n",
        "    test_predictions = tree.predict(test)\n",
        "    test_accuracy = np.mean(test_predictions == test.iloc[:, -1])\n",
        "    print(f'Test accuracy is {test_accuracy}')\n",
        "\n",
        "    # Store results\n",
        "    results.append((depth, train_accuracy, test_accuracy))\n",
        "    print()\n",
        "\n",
        "# Print the results for comparison\n",
        "print(\"Summary of Results:\")\n",
        "for depth, train_acc, test_acc in results:\n",
        "    print(f\"max_depth={depth}: Training Accuracy = {train_acc}, Test Accuracy = {test_acc}\")"
      ],
      "metadata": {
        "id": "yCV8Ia24WwBB",
        "colab": {
          "base_uri": "https://localhost:8080/",
          "height": 349
        },
        "outputId": "5888f2d8-0185-43b6-fd12-b13a2c1dfb75"
      },
      "execution_count": null,
      "outputs": [
        {
          "output_type": "stream",
          "name": "stdout",
          "text": [
            "------------ max_depth=2 ------------\n"
          ]
        },
        {
          "output_type": "error",
          "ename": "TypeError",
          "evalue": "'numpy.int64' object is not callable",
          "traceback": [
            "\u001b[0;31m---------------------------------------------------------------------------\u001b[0m",
            "\u001b[0;31mTypeError\u001b[0m                                 Traceback (most recent call last)",
            "\u001b[0;32m<ipython-input-29-d4a8aed072ab>\u001b[0m in \u001b[0;36m<cell line: 10>\u001b[0;34m()\u001b[0m\n\u001b[1;32m     18\u001b[0m \u001b[0;34m\u001b[0m\u001b[0m\n\u001b[1;32m     19\u001b[0m     \u001b[0;31m# Calculate training accuracy\u001b[0m\u001b[0;34m\u001b[0m\u001b[0;34m\u001b[0m\u001b[0m\n\u001b[0;32m---> 20\u001b[0;31m     \u001b[0mtrain_predictions\u001b[0m \u001b[0;34m=\u001b[0m \u001b[0mtree\u001b[0m\u001b[0;34m.\u001b[0m\u001b[0mpredict\u001b[0m\u001b[0;34m(\u001b[0m\u001b[0mtrain\u001b[0m\u001b[0;34m)\u001b[0m\u001b[0;34m\u001b[0m\u001b[0;34m\u001b[0m\u001b[0m\n\u001b[0m\u001b[1;32m     21\u001b[0m     \u001b[0mtrain_accuracy\u001b[0m \u001b[0;34m=\u001b[0m \u001b[0mnp\u001b[0m\u001b[0;34m.\u001b[0m\u001b[0mmean\u001b[0m\u001b[0;34m(\u001b[0m\u001b[0mtrain_predictions\u001b[0m \u001b[0;34m==\u001b[0m \u001b[0mtrain\u001b[0m\u001b[0;34m.\u001b[0m\u001b[0miloc\u001b[0m\u001b[0;34m[\u001b[0m\u001b[0;34m:\u001b[0m\u001b[0;34m,\u001b[0m \u001b[0;34m-\u001b[0m\u001b[0;36m1\u001b[0m\u001b[0;34m]\u001b[0m\u001b[0;34m)\u001b[0m\u001b[0;34m\u001b[0m\u001b[0;34m\u001b[0m\u001b[0m\n\u001b[1;32m     22\u001b[0m     \u001b[0mprint\u001b[0m\u001b[0;34m(\u001b[0m\u001b[0;34mf'Training accuracy is {train_accuracy}'\u001b[0m\u001b[0;34m)\u001b[0m\u001b[0;34m\u001b[0m\u001b[0;34m\u001b[0m\u001b[0m\n",
            "\u001b[0;32m<ipython-input-27-72c1e620ead3>\u001b[0m in \u001b[0;36mpredict\u001b[0;34m(self, X)\u001b[0m\n\u001b[1;32m    105\u001b[0m             \u001b[0mcurrent_node\u001b[0m \u001b[0;34m=\u001b[0m \u001b[0mself\u001b[0m\u001b[0;34m.\u001b[0m\u001b[0mtree\u001b[0m\u001b[0;34m\u001b[0m\u001b[0;34m\u001b[0m\u001b[0m\n\u001b[1;32m    106\u001b[0m             \u001b[0;32mwhile\u001b[0m \u001b[0misinstance\u001b[0m\u001b[0;34m(\u001b[0m\u001b[0mcurrent_node\u001b[0m\u001b[0;34m,\u001b[0m \u001b[0mdict\u001b[0m\u001b[0;34m)\u001b[0m\u001b[0;34m:\u001b[0m\u001b[0;34m\u001b[0m\u001b[0;34m\u001b[0m\u001b[0m\n\u001b[0;32m--> 107\u001b[0;31m                 \u001b[0msplit_condition\u001b[0m \u001b[0;34m=\u001b[0m \u001b[0mnext\u001b[0m\u001b[0;34m(\u001b[0m\u001b[0miter\u001b[0m\u001b[0;34m(\u001b[0m\u001b[0mcurrent_node\u001b[0m\u001b[0;34m)\u001b[0m\u001b[0;34m)\u001b[0m\u001b[0;34m\u001b[0m\u001b[0;34m\u001b[0m\u001b[0m\n\u001b[0m\u001b[1;32m    108\u001b[0m                 \u001b[0mfeature\u001b[0m\u001b[0;34m,\u001b[0m \u001b[0mvalue\u001b[0m \u001b[0;34m=\u001b[0m \u001b[0msplit_condition\u001b[0m\u001b[0;34m\u001b[0m\u001b[0;34m\u001b[0m\u001b[0m\n\u001b[1;32m    109\u001b[0m                 \u001b[0mthreshold\u001b[0m \u001b[0;34m=\u001b[0m \u001b[0mfloat\u001b[0m\u001b[0;34m(\u001b[0m\u001b[0mvalue\u001b[0m\u001b[0;34m[\u001b[0m\u001b[0;36m2\u001b[0m\u001b[0;34m:\u001b[0m\u001b[0;34m]\u001b[0m\u001b[0;34m)\u001b[0m\u001b[0;34m\u001b[0m\u001b[0;34m\u001b[0m\u001b[0m\n",
            "\u001b[0;31mTypeError\u001b[0m: 'numpy.int64' object is not callable"
          ]
        }
      ]
    },
    {
      "cell_type": "markdown",
      "source": [
        "Now, use KFold (as seen in tutorials) for a cross validation search to the best depth for the tree."
      ],
      "metadata": {
        "id": "E14fEnmQwi__"
      }
    },
    {
      "cell_type": "code",
      "source": [
        "from sklearn.model_selection import KFold\n",
        "from tqdm import tqdm\n",
        "import matplotlib.pyplot as plt\n",
        "\n",
        "# Initialize KFold with 5 splits\n",
        "kf = KFold(n_splits=5, shuffle=True, random_state=42)\n",
        "accs = []\n",
        "\n",
        "# Iterate over different depths\n",
        "for depth in tqdm(range(1, 6)):\n",
        "    fold_accs = []\n",
        "\n",
        "    # Iterate over each fold\n",
        "    for train_index, val_index in kf.split(data):\n",
        "        train_data, val_data = data.iloc[train_index], data.iloc[val_index]\n",
        "\n",
        "        # Initialize DecisionTree with current max_depth\n",
        "        tree = DecisionTree(max_depth=depth)\n",
        "\n",
        "        # Fit the DecisionTree on training data\n",
        "        tree.fit(train_data)\n",
        "\n",
        "        # Predict on validation data\n",
        "        val_predictions = tree.predict(val_data)\n",
        "\n",
        "        # Calculate accuracy for this fold\n",
        "        val_accuracy = np.mean(val_predictions == val_data.iloc[:, -1])\n",
        "        fold_accs.append(val_accuracy)\n",
        "\n",
        "    # Compute average accuracy across all folds for this depth\n",
        "    avg_acc = np.mean(fold_accs)\n",
        "    accs.append(avg_acc)\n",
        "\n",
        "# Plotting the results\n",
        "plt.plot(range(1, 6), accs, marker='o')\n",
        "plt.xlabel('Max Depth')\n",
        "plt.ylabel('Average Accuracy')\n",
        "plt.title('Cross Validation Results')\n",
        "plt.xticks(range(1, 6))\n",
        "plt.grid(True)\n",
        "plt.show()\n"
      ],
      "metadata": {
        "id": "SjBmMq6Dwuwt"
      },
      "execution_count": null,
      "outputs": []
    },
    {
      "cell_type": "markdown",
      "source": [
        "Use that depth and print the test score. Is it better generalizer than the first one? What do you conclude about the tuning proccess using validation? (answer to yourselves)."
      ],
      "metadata": {
        "id": "KLHtD2ElyTOz"
      }
    },
    {
      "cell_type": "markdown",
      "source": [
        "## Question 4 - PAC, Bias vs Variance\n",
        "See attached pdf in moodle assignment!"
      ],
      "metadata": {
        "id": "VumpPbweXEmp"
      }
    },
    {
      "cell_type": "markdown",
      "source": [
        "## Question 5 - Polynomial regression - 5 pts bonus\n",
        "In this problem you will extend regression to fit nonlinear functions.<br/>\n",
        "The dataset contains one feature (x) and continiuos prediction (y)."
      ],
      "metadata": {
        "id": "2xaWiAsF0pTX"
      }
    },
    {
      "cell_type": "code",
      "source": [
        "# Import libraries\n",
        "\n",
        "import numpy as np\n",
        "import pandas as pd\n",
        "import matplotlib.pyplot as plt"
      ],
      "metadata": {
        "id": "hcvqEURI1G2Y"
      },
      "execution_count": null,
      "outputs": []
    },
    {
      "cell_type": "code",
      "source": [
        "#@title Load data\n",
        "\n",
        "import requests\n",
        "from io import BytesIO\n",
        "\n",
        "def load_npy_file(url):\n",
        "  response = requests.get(url)\n",
        "  if response.status_code == 200:\n",
        "    npy_data = np.load(BytesIO(response.content), allow_pickle=True).item()\n",
        "    return npy_data\n",
        "  else:\n",
        "    return None"
      ],
      "metadata": {
        "id": "7djVEPUN1lmm"
      },
      "execution_count": null,
      "outputs": []
    },
    {
      "cell_type": "code",
      "source": [
        "data_dict = load_npy_file('https://sharon.srworkspace.com/ml/datasets/hw3/linreg_data_2d.npy')\n",
        "\n",
        "x_train = data_dict['x_train']\n",
        "y_train = data_dict['y_train']\n",
        "x_test = data_dict['x_test']\n",
        "y_test = data_dict['y_test']"
      ],
      "metadata": {
        "id": "2mAZ5cnz1qRt"
      },
      "execution_count": null,
      "outputs": []
    },
    {
      "cell_type": "markdown",
      "source": [
        "Look at the plot of the training data. What do you think was the function generated the data? <br/>\n",
        "<font color='red'>Write your answer here</font>\n",
        "<font color='red'>\n",
        "The data suggests a combination of polynomial terms. Given the shape, it could be generated by a polynomial function, judging by the generated plot possibly of a higher degree.\n",
        "</font>"
      ],
      "metadata": {
        "id": "YKhCv_xc51ON"
      }
    },
    {
      "cell_type": "code",
      "source": [
        "plt.scatter(x_train, y_train, color='blue', s=2)\n",
        "plt.xlabel('X')\n",
        "plt.ylabel('Y')\n",
        "plt.title('Generated Train')\n",
        "plt.show()"
      ],
      "metadata": {
        "id": "hKxQ_WPg51is"
      },
      "execution_count": null,
      "outputs": []
    },
    {
      "cell_type": "markdown",
      "source": [
        "We will assume the polynomial regression problem of the following form:\n",
        "$$ y=a_0+a_1x+a_2x^2+...+a_dx^d $$\n",
        "The function ```get_solution``` will find the cofficients, similarly to methods done in simple linear regression. <br/>\n",
        "The function ```calc``` will recieve a new sample and the cofficients found, and will predict the output.\n",
        "\n",
        "\n",
        "\n"
      ],
      "metadata": {
        "id": "JhkNIlk915eu"
      }
    },
    {
      "cell_type": "code",
      "source": [
        "# https://www.youtube.com/watch?v=H8kocPOT5v0 Great Youtube Guide on Polynomial regression, highly recommended watching it\n",
        "\n",
        "# Debugging: print the shapes of x_train and y_train\n",
        "print(f\"x_train shape: {x_train.shape}\")\n",
        "print(f\"y_train shape: {y_train.shape}\")\n",
        "\n",
        "print(f\"x_test shape: {x_test.shape}\")\n",
        "print(f\"y_test shape: {y_test.shape}\")\n",
        "\n",
        "def get_solution(X, y, degree=2):\n",
        "    # Implement here\n",
        "    X = np.ravel(X)\n",
        "    y = np.ravel(y)\n",
        "    coefs = np.polyfit(X, y, degree)\n",
        "    return coefs\n",
        "\n",
        "def calc(x, coefs):\n",
        "    # Implement here\n",
        "    y_pred = np.polyval(coefs, x)\n",
        "    return y_pred\n"
      ],
      "metadata": {
        "id": "wNYVnO571y2s"
      },
      "execution_count": null,
      "outputs": []
    },
    {
      "cell_type": "markdown",
      "source": [
        "Running the current code with $d=1$ yields a simple regressor.\n",
        "- Which $d$ works best?\n",
        "- According to your previous answer, which $d$ <u>is expected</u> to work the best?\n",
        "- Try to explain what happens when you try $d+1$ and why? Was the solver you implemented enough?\n",
        "\n",
        "<font color='red'>Write your answers here and explain them</font>\n",
        "<font color='red'>\n",
        "1. i think it is $d=6$ or $d = 8$, and it fits the shape of the plot better than other $d$ values.\n",
        "<font color='red'>\n",
        "2. after comparison between different $d$ values, the higher the $d$ value the more it would fit the data and that works only from $0 < d \\leq 8 $. where at $d=8$ it reaches it's best data fit.\n",
        "<font color='red'>\n",
        "3. Despite that the higher $d$ value the more data fit. But, for a large samples data, it would cause overfitting. in this question, it suits perfectly for having only 150 samples for each train and test data. To prevent that from happening, Ridge or Lasso must be used for higher performance and efficiency."
      ],
      "metadata": {
        "id": "u8NvvzDE6mNK"
      }
    },
    {
      "cell_type": "code",
      "source": [
        "xx = np.arange(0, 100, 0.1)\n",
        "yy = []\n",
        "\n",
        "weights = get_solution(x_train, y_train, 6)\n",
        "\n",
        "for samp in xx:\n",
        "  yy.append(calc(samp, weights))\n",
        "\n",
        "plt.scatter(x_train, y_train, color='blue', s=2, label='train')\n",
        "plt.scatter(x_test, y_test, color='red', s=2, label='test')\n",
        "plt.plot(xx, yy, color='black')\n",
        "plt.show()"
      ],
      "metadata": {
        "id": "ON7wx4Xp6nDP"
      },
      "execution_count": null,
      "outputs": []
    }
  ],
  "metadata": {
    "colab": {
      "provenance": [],
      "toc_visible": true
    },
    "kernelspec": {
      "display_name": "Python 3",
      "name": "python3"
    },
    "language_info": {
      "name": "python"
    },
    "gpuClass": "standard"
  },
  "nbformat": 4,
  "nbformat_minor": 0
}